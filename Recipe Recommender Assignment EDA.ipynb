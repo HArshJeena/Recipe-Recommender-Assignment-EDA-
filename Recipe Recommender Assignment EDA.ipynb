{
 "cells": [
  {
   "cell_type": "markdown",
   "id": "e0ef8459-c1a2-4f88-ae07-37de008ef68d",
   "metadata": {},
   "source": [
    "# Importing Necessary Libraries "
   ]
  },
  {
   "cell_type": "code",
   "execution_count": 1,
   "id": "e23963a2-9beb-4e54-8b0b-d50a198adf2c",
   "metadata": {},
   "outputs": [],
   "source": [
    "import findspark\n",
    "findspark.init()\n",
    "import pyspark\n",
    "from pyspark.sql import SparkSession"
   ]
  },
  {
   "cell_type": "code",
   "execution_count": 2,
   "id": "ac4453a4-7ea3-40e4-8cf8-ed83788785a7",
   "metadata": {},
   "outputs": [],
   "source": [
    "from pyspark.sql import SparkSession\n",
    "spark = SparkSession.builder.appName(\"Basics\").getOrCreate()"
   ]
  },
  {
   "cell_type": "code",
   "execution_count": 3,
   "id": "48461333-9d02-47dc-93ea-51703861177b",
   "metadata": {},
   "outputs": [
    {
     "data": {
      "text/html": [
       "\n",
       "            <div>\n",
       "                <p><b>SparkSession - hive</b></p>\n",
       "                \n",
       "        <div>\n",
       "            <p><b>SparkContext</b></p>\n",
       "\n",
       "            <p><a href=\"http://Harsh:4041\">Spark UI</a></p>\n",
       "\n",
       "            <dl>\n",
       "              <dt>Version</dt>\n",
       "                <dd><code>v3.5.0</code></dd>\n",
       "              <dt>Master</dt>\n",
       "                <dd><code>local[*]</code></dd>\n",
       "              <dt>AppName</dt>\n",
       "                <dd><code>PySparkShell</code></dd>\n",
       "            </dl>\n",
       "        </div>\n",
       "        \n",
       "            </div>\n",
       "        "
      ],
      "text/plain": [
       "<pyspark.sql.session.SparkSession at 0x17acf7d5fd0>"
      ]
     },
     "execution_count": 3,
     "metadata": {},
     "output_type": "execute_result"
    }
   ],
   "source": [
    "spark"
   ]
  },
  {
   "cell_type": "code",
   "execution_count": 4,
   "id": "e4e45b95-1a00-4efd-bc86-66046c4451f4",
   "metadata": {},
   "outputs": [],
   "source": [
    "from pyspark.sql import functions as F\n",
    "from pyspark.sql import Window\n",
    "from pyspark.ml.feature import Bucketizer\n",
    "get_ipython().run_line_magic('matplotlib', 'inline')\n",
    "\n",
    "import matplotlib.pyplot as plt\n",
    "import pandas as pd\n",
    "import numpy as np\n",
    "\n",
    "# Import for typecasting columns\n",
    "from pyspark.sql.types import IntegerType,BooleanType,DateType,FloatType,StringType\n",
    "from pyspark.sql.types import ArrayType"
   ]
  },
  {
   "cell_type": "code",
   "execution_count": null,
   "id": "656dbc4f-d6b5-4f31-abac-32e5a80c58e1",
   "metadata": {},
   "outputs": [],
   "source": []
  },
  {
   "cell_type": "code",
   "execution_count": null,
   "id": "dc3fa4f8-2cc0-4f3e-b41f-83ca0c8e8b9d",
   "metadata": {},
   "outputs": [],
   "source": []
  },
  {
   "cell_type": "markdown",
   "id": "bf61908d-68e0-4ce7-9d45-5f0d7434e1d0",
   "metadata": {},
   "source": [
    "# Reading The Data"
   ]
  },
  {
   "cell_type": "markdown",
   "id": "61686fb5-8209-4cd8-9496-03b4419ddbf8",
   "metadata": {},
   "source": [
    "### First Reading Raw Recipe Data"
   ]
  },
  {
   "cell_type": "code",
   "execution_count": 5,
   "id": "f004b099-029a-4521-93fd-7adf1acb2c12",
   "metadata": {},
   "outputs": [],
   "source": [
    "Raw_recipes_df = (spark.read.csv(\"RAW_recipes_cleaned.csv\", inferSchema = True, header = True))"
   ]
  },
  {
   "cell_type": "code",
   "execution_count": 6,
   "id": "bffa87f1-ee25-45a6-93b2-8675075f9c6e",
   "metadata": {},
   "outputs": [
    {
     "name": "stdout",
     "output_type": "stream",
     "text": [
      "+--------------------+------+-------+--------------+----------+--------------------+--------------------+-------+--------------------+--------------------+--------------------+-------------+\n",
      "|                name|    id|minutes|contributor_id| submitted|                tags|           nutrition|n_steps|               steps|         description|         ingredients|n_ingredients|\n",
      "+--------------------+------+-------+--------------+----------+--------------------+--------------------+-------+--------------------+--------------------+--------------------+-------------+\n",
      "|arriba   baked wi...|137739|     55|         47892|2005-09-16|['60-minutes-or-l...|[51.5, 0.0, 13.0,...|     11|['make a choice a...|autumn is my favo...|['winter squash',...|            7|\n",
      "|a bit different  ...| 31490|     30|         26278|2002-06-17|['30-minutes-or-l...|[173.4, 18.0, 0.0...|      9|['preheat oven to...|this recipe calls...|['prepared pizza ...|            6|\n",
      "|all in the kitche...|112140|    130|        196586|2005-02-25|['time-to-make', ...|[269.8, 22.0, 32....|      6|['brown ground be...|this modified ver...|['ground beef', '...|           13|\n",
      "|  alouette  potatoes| 59389|     45|         68585|2003-04-14|['60-minutes-or-l...|[368.1, 17.0, 10....|     11|['place potatoes ...|this is a super e...|['spreadable chee...|           11|\n",
      "|amish  tomato ket...| 44061|    190|         41706|2002-10-25|['weeknight', 'ti...|[352.9, 1.0, 337....|      5|['mix all ingredi...|my dh's amish mot...|['tomato juice', ...|            8|\n",
      "+--------------------+------+-------+--------------+----------+--------------------+--------------------+-------+--------------------+--------------------+--------------------+-------------+\n",
      "only showing top 5 rows\n",
      "\n"
     ]
    }
   ],
   "source": [
    "Raw_recipes_df.show(5)"
   ]
  },
  {
   "cell_type": "code",
   "execution_count": 7,
   "id": "76188d5e-39ae-49e6-9469-7681e6dfe5e0",
   "metadata": {},
   "outputs": [
    {
     "name": "stdout",
     "output_type": "stream",
     "text": [
      "root\n",
      " |-- name: string (nullable = true)\n",
      " |-- id: integer (nullable = true)\n",
      " |-- minutes: integer (nullable = true)\n",
      " |-- contributor_id: integer (nullable = true)\n",
      " |-- submitted: date (nullable = true)\n",
      " |-- tags: string (nullable = true)\n",
      " |-- nutrition: string (nullable = true)\n",
      " |-- n_steps: integer (nullable = true)\n",
      " |-- steps: string (nullable = true)\n",
      " |-- description: string (nullable = true)\n",
      " |-- ingredients: string (nullable = true)\n",
      " |-- n_ingredients: integer (nullable = true)\n",
      "\n"
     ]
    }
   ],
   "source": [
    "Raw_recipes_df.printSchema()"
   ]
  },
  {
   "cell_type": "code",
   "execution_count": 8,
   "id": "8d123c21-8920-4c41-bdef-736805d9da8c",
   "metadata": {},
   "outputs": [],
   "source": [
    "# Using asset command for checking cells\n",
    "assert Raw_recipes_df.count() == 231637, \"Mistake, check again\"\n",
    "assert len(Raw_recipes_df.columns) == 12, \"Mistake, check again\"\n",
    "assert Raw_recipes_df.schema[\"minutes\"].dataType == IntegerType(), \"Mistake reading data type, check again\"\n",
    "assert Raw_recipes_df.schema[\"tags\"].dataType == StringType(), \"Mistake reading data type, check again\"\n",
    "assert Raw_recipes_df.schema[\"n_ingredients\"].dataType == IntegerType(), \"Mistake reading data type, check again\""
   ]
  },
  {
   "cell_type": "code",
   "execution_count": 9,
   "id": "d1cfc094-0293-46d4-b3b0-0fdb87ad88ab",
   "metadata": {},
   "outputs": [
    {
     "data": {
      "text/plain": [
       "True"
      ]
     },
     "execution_count": 9,
     "metadata": {},
     "output_type": "execute_result"
    }
   ],
   "source": [
    "Raw_recipes_df.count() == 231637"
   ]
  },
  {
   "cell_type": "code",
   "execution_count": 10,
   "id": "5c9a31dd-218e-4ab1-bfd4-51ac85620d6f",
   "metadata": {},
   "outputs": [
    {
     "data": {
      "text/plain": [
       "True"
      ]
     },
     "execution_count": 10,
     "metadata": {},
     "output_type": "execute_result"
    }
   ],
   "source": [
    "len(Raw_recipes_df.columns) == 12"
   ]
  },
  {
   "cell_type": "code",
   "execution_count": 11,
   "id": "8770c01a-98c4-4b8e-ab01-8d09012290dc",
   "metadata": {},
   "outputs": [
    {
     "data": {
      "text/plain": [
       "True"
      ]
     },
     "execution_count": 11,
     "metadata": {},
     "output_type": "execute_result"
    }
   ],
   "source": [
    "Raw_recipes_df.schema[\"minutes\"].dataType == IntegerType()"
   ]
  },
  {
   "cell_type": "code",
   "execution_count": 12,
   "id": "c029787f-c789-46ba-8e84-b41f39b6745c",
   "metadata": {},
   "outputs": [
    {
     "data": {
      "text/plain": [
       "True"
      ]
     },
     "execution_count": 12,
     "metadata": {},
     "output_type": "execute_result"
    }
   ],
   "source": [
    "Raw_recipes_df.schema[\"tags\"].dataType == StringType()"
   ]
  },
  {
   "cell_type": "code",
   "execution_count": 13,
   "id": "7c038dee-8783-4d8c-9344-2d9117df055f",
   "metadata": {},
   "outputs": [
    {
     "data": {
      "text/plain": [
       "True"
      ]
     },
     "execution_count": 13,
     "metadata": {},
     "output_type": "execute_result"
    }
   ],
   "source": [
    "Raw_recipes_df.schema[\"n_ingredients\"].dataType == IntegerType()"
   ]
  },
  {
   "cell_type": "markdown",
   "id": "18453d6f-6644-4bc5-b0e4-7f1237d6f2d1",
   "metadata": {},
   "source": [
    "#### Extracting Nutrition Values"
   ]
  },
  {
   "cell_type": "code",
   "execution_count": 14,
   "id": "49acd621-09c1-46e4-a7c2-d52ac479b57d",
   "metadata": {},
   "outputs": [],
   "source": [
    "# List of Nutrition\n",
    "nutrition_col_names = ['calories','total_fat_PDV','sugar_PDV','sodium_PDV','protein_PDV','saturated_fat_PDV','carbohydrates_PDV']"
   ]
  },
  {
   "cell_type": "code",
   "execution_count": 15,
   "id": "03feb4aa-95fb-4197-a2f5-657c0ad5090a",
   "metadata": {},
   "outputs": [
    {
     "name": "stdout",
     "output_type": "stream",
     "text": [
      "+--------------------+\n",
      "|           nutrition|\n",
      "+--------------------+\n",
      "|[51.5, 0.0, 13.0,...|\n",
      "|[173.4, 18.0, 0.0...|\n",
      "|[269.8, 22.0, 32....|\n",
      "|[368.1, 17.0, 10....|\n",
      "|[352.9, 1.0, 337....|\n",
      "+--------------------+\n",
      "only showing top 5 rows\n",
      "\n"
     ]
    }
   ],
   "source": [
    "Raw_recipes_df.select('nutrition').show(5)"
   ]
  },
  {
   "cell_type": "code",
   "execution_count": 16,
   "id": "4c06ed9d-39be-428c-8b2b-419394ebf460",
   "metadata": {},
   "outputs": [],
   "source": [
    "# Operation to remove square brackets in the column\n",
    "Raw_recipes_df = (Raw_recipes_df.withColumn('nutrition',(F.regexp_replace('nutrition','[\\[\\]]',''))))"
   ]
  },
  {
   "cell_type": "code",
   "execution_count": 17,
   "id": "e189051b-b5c3-4dda-b757-b14518c2f41b",
   "metadata": {},
   "outputs": [],
   "source": [
    "import pyspark\n",
    "nutrition_col_split = pyspark.sql.functions.split(Raw_recipes_df['nutrition'],',')\n",
    "\n",
    "for col_index, col_name in enumerate(nutrition_col_names):\n",
    "    Raw_recipes_df = (Raw_recipes_df.withColumn(col_name, nutrition_col_split.getItem(col_index).cast('float')))"
   ]
  },
  {
   "cell_type": "code",
   "execution_count": 18,
   "id": "25946087-c7d6-435b-b8a3-6b3a44371d10",
   "metadata": {},
   "outputs": [],
   "source": [
    "# Using asset command for checking cells\n",
    "assert Raw_recipes_df.schema[\"carbohydrates_PDV\"].dataType == FloatType(), \"Recheck your typecasting\"\n",
    "assert Raw_recipes_df.collect()[123432][14] == 62.0, \"The columns not been split correctly, check again\"\n",
    "assert Raw_recipes_df.collect()[10000][12] == 60.400001525878906, \"The columns not been split correctly, check again\""
   ]
  },
  {
   "cell_type": "code",
   "execution_count": 19,
   "id": "cdc3ac48-9db3-4875-b84e-55b344cb2e56",
   "metadata": {},
   "outputs": [
    {
     "data": {
      "text/plain": [
       "True"
      ]
     },
     "execution_count": 19,
     "metadata": {},
     "output_type": "execute_result"
    }
   ],
   "source": [
    "Raw_recipes_df.schema[\"carbohydrates_PDV\"].dataType == FloatType()"
   ]
  },
  {
   "cell_type": "code",
   "execution_count": 20,
   "id": "052ee72d-5a12-45dc-bb9f-5ed833b7d5e4",
   "metadata": {},
   "outputs": [
    {
     "data": {
      "text/plain": [
       "True"
      ]
     },
     "execution_count": 20,
     "metadata": {},
     "output_type": "execute_result"
    }
   ],
   "source": [
    "Raw_recipes_df.collect()[123432][14] == 62.0"
   ]
  },
  {
   "cell_type": "code",
   "execution_count": 21,
   "id": "b4223451-a899-4006-88e3-dc1b0da66a7a",
   "metadata": {},
   "outputs": [
    {
     "data": {
      "text/plain": [
       "True"
      ]
     },
     "execution_count": 21,
     "metadata": {},
     "output_type": "execute_result"
    }
   ],
   "source": [
    "Raw_recipes_df.collect()[10000][12] == 60.400001525878906"
   ]
  },
  {
   "cell_type": "markdown",
   "id": "5609bd7c-8f53-4389-b58d-6bda6f2ee257",
   "metadata": {},
   "source": [
    "### Make Nutrition Per 100 calorie Columns"
   ]
  },
  {
   "cell_type": "markdown",
   "id": "73cb0757-4f3c-4c13-8daf-911ce67aa6e8",
   "metadata": {},
   "source": [
    "### Task 03: Standardize the nutrition values "
   ]
  },
  {
   "cell_type": "code",
   "execution_count": 23,
   "id": "81d8ad30-5575-4a3f-bce8-dacda1983fea",
   "metadata": {},
   "outputs": [],
   "source": [
    "for nutrition_col in nutrition_col_names:# loop over each of the newly created nutrition columns \n",
    "    if nutrition_col != \"calories\":\n",
    "\n",
    "        nutrition_per_100_cal_col = (nutrition_col.replace('_PDV','')\n",
    "                                     +'_per_100_cal')\n",
    "        Raw_recipes_df = Raw_recipes_df.withColumn(nutrition_per_100_cal_col,\n",
    "                                               Raw_recipes_df[nutrition_col]*100/Raw_recipes_df[\"calories\"])\n",
    "         \n",
    "        \n",
    "        Raw_Recipes_Df = Raw_recipes_df.fillna(value=0,subset=[nutrition_per_100_cal_col]) "
   ]
  },
  {
   "cell_type": "markdown",
   "id": "f6eb303f-2330-4e0f-bd65-e305b210b826",
   "metadata": {},
   "source": [
    "#### Test cases for Task 03"
   ]
  },
  {
   "cell_type": "code",
   "execution_count": 24,
   "id": "2cd50eaa-2ef6-4134-b2c4-61a7f16f3d0d",
   "metadata": {},
   "outputs": [
    {
     "ename": "AssertionError",
     "evalue": "total_fat_per_100_cal for recipe 28881 should be 0",
     "output_type": "error",
     "traceback": [
      "\u001b[1;31m---------------------------------------------------------------------------\u001b[0m",
      "\u001b[1;31mAssertionError\u001b[0m                            Traceback (most recent call last)",
      "Cell \u001b[1;32mIn[24], line 2\u001b[0m\n\u001b[0;32m      1\u001b[0m \u001b[38;5;66;03m# total fat check for id 28881\u001b[39;00m\n\u001b[1;32m----> 2\u001b[0m \u001b[38;5;28;01massert\u001b[39;00m Raw_recipes_df\u001b[38;5;241m.\u001b[39mfilter(\u001b[38;5;124m\"\u001b[39m\u001b[38;5;124mid == 28881\u001b[39m\u001b[38;5;124m\"\u001b[39m)\u001b[38;5;241m.\u001b[39mselect(\u001b[38;5;124m'\u001b[39m\u001b[38;5;124mtotal_fat_per_100_cal\u001b[39m\u001b[38;5;124m'\u001b[39m)\u001b[38;5;241m.\u001b[39mfirst()[\u001b[38;5;241m0\u001b[39m] \u001b[38;5;241m==\u001b[39m \u001b[38;5;241m0\u001b[39m, \u001b[38;5;124m\"\u001b[39m\u001b[38;5;124mtotal_fat_per_100_cal for recipe 28881 should be 0\u001b[39m\u001b[38;5;124m\"\u001b[39m\n\u001b[0;32m      4\u001b[0m \u001b[38;5;66;03m# total fat check for id 112140\u001b[39;00m\n\u001b[0;32m      5\u001b[0m \u001b[38;5;28;01massert\u001b[39;00m \u001b[38;5;28mround\u001b[39m(Raw_recipes_df\u001b[38;5;241m.\u001b[39mfilter(\u001b[38;5;124m\"\u001b[39m\u001b[38;5;124mid == 112140\u001b[39m\u001b[38;5;124m\"\u001b[39m)\u001b[38;5;241m.\u001b[39mselect(\u001b[38;5;124m'\u001b[39m\u001b[38;5;124mtotal_fat_per_100_cal\u001b[39m\u001b[38;5;124m'\u001b[39m)\u001b[38;5;241m.\u001b[39mfirst()[\u001b[38;5;241m0\u001b[39m]) \u001b[38;5;241m==\u001b[39m \u001b[38;5;241m8\u001b[39m, \u001b[38;5;124m\"\u001b[39m\u001b[38;5;124mtotal_fat_per_100_cal for recipe 112140 should be 8\u001b[39m\u001b[38;5;124m\"\u001b[39m\n",
      "\u001b[1;31mAssertionError\u001b[0m: total_fat_per_100_cal for recipe 28881 should be 0"
     ]
    }
   ],
   "source": [
    "# total fat check for id 28881\n",
    "assert Raw_recipes_df.filter(\"id == 28881\").select('total_fat_per_100_cal').first()[0] == 0, \"total_fat_per_100_cal for recipe 28881 should be 0\"\n",
    "\n",
    "# total fat check for id 112140\n",
    "assert round(Raw_recipes_df.filter(\"id == 112140\").select('total_fat_per_100_cal').first()[0]) == 8, \"total_fat_per_100_cal for recipe 112140 should be 8\"\n",
    "\n",
    "# checking for nulls\n",
    "for c in ['total_fat_per_100_cal','sugar_per_100_cal','sodium_per_100_cal','protein_per_100_cal',\n",
    "                          'saturated_fat_per_100_cal','carbohydrates_per_100_cal']:\n",
    "    assert Raw_recipes_df.select(F.count(F.when(F.isnan(c) | F.col(c).isNull(), c)).alias(c)).collect()[0][0] == 0, \"There are Nulls in the data\""
   ]
  },
  {
   "cell_type": "markdown",
   "id": "6fcc38e4-1f50-4542-88a2-e29cb3b456a4",
   "metadata": {},
   "source": [
    "#### Sir/Ma'am no matter what I do I can't clear this error, according to the template for id 28881 total_fat_per_100_cal should be 0 but for some reason there's an error. I even re-download the data again but the error is still present. Please advice me on how it can be cleared."
   ]
  },
  {
   "cell_type": "code",
   "execution_count": 25,
   "id": "38cae213-1bfc-4d1a-9380-1cd450aa88bb",
   "metadata": {},
   "outputs": [
    {
     "data": {
      "text/plain": [
       "False"
      ]
     },
     "execution_count": 25,
     "metadata": {},
     "output_type": "execute_result"
    }
   ],
   "source": [
    "Raw_recipes_df.filter(\"id == 28881\").select('total_fat_per_100_cal').first()[0] == 0"
   ]
  },
  {
   "cell_type": "code",
   "execution_count": 26,
   "id": "80be2a25-8a9f-428e-88ef-08e9ed0d50e3",
   "metadata": {},
   "outputs": [
    {
     "data": {
      "text/plain": [
       "True"
      ]
     },
     "execution_count": 26,
     "metadata": {},
     "output_type": "execute_result"
    }
   ],
   "source": [
    "round(Raw_recipes_df.filter(\"id == 112140\").select('total_fat_per_100_cal').first()[0]) == 8"
   ]
  },
  {
   "cell_type": "code",
   "execution_count": 27,
   "id": "27e27d83-1f74-4b30-9d55-20bff1874806",
   "metadata": {},
   "outputs": [
    {
     "ename": "AssertionError",
     "evalue": "",
     "output_type": "error",
     "traceback": [
      "\u001b[1;31m---------------------------------------------------------------------------\u001b[0m",
      "\u001b[1;31mAssertionError\u001b[0m                            Traceback (most recent call last)",
      "Cell \u001b[1;32mIn[27], line 3\u001b[0m\n\u001b[0;32m      1\u001b[0m \u001b[38;5;28;01mfor\u001b[39;00m c \u001b[38;5;129;01min\u001b[39;00m [\u001b[38;5;124m'\u001b[39m\u001b[38;5;124mtotal_fat_per_100_cal\u001b[39m\u001b[38;5;124m'\u001b[39m,\u001b[38;5;124m'\u001b[39m\u001b[38;5;124msugar_per_100_cal\u001b[39m\u001b[38;5;124m'\u001b[39m,\u001b[38;5;124m'\u001b[39m\u001b[38;5;124msodium_per_100_cal\u001b[39m\u001b[38;5;124m'\u001b[39m,\u001b[38;5;124m'\u001b[39m\u001b[38;5;124mprotein_per_100_cal\u001b[39m\u001b[38;5;124m'\u001b[39m,\n\u001b[0;32m      2\u001b[0m                           \u001b[38;5;124m'\u001b[39m\u001b[38;5;124msaturated_fat_per_100_cal\u001b[39m\u001b[38;5;124m'\u001b[39m,\u001b[38;5;124m'\u001b[39m\u001b[38;5;124mcarbohydrates_per_100_cal\u001b[39m\u001b[38;5;124m'\u001b[39m]:\n\u001b[1;32m----> 3\u001b[0m     \u001b[38;5;28;01massert\u001b[39;00m Raw_recipes_df\u001b[38;5;241m.\u001b[39mselect(F\u001b[38;5;241m.\u001b[39mcount(F\u001b[38;5;241m.\u001b[39mwhen(F\u001b[38;5;241m.\u001b[39misnan(c) \u001b[38;5;241m|\u001b[39m F\u001b[38;5;241m.\u001b[39mcol(c)\u001b[38;5;241m.\u001b[39misNull(), c))\u001b[38;5;241m.\u001b[39malias(c))\u001b[38;5;241m.\u001b[39mcollect()[\u001b[38;5;241m0\u001b[39m][\u001b[38;5;241m0\u001b[39m] \u001b[38;5;241m==\u001b[39m \u001b[38;5;241m0\u001b[39m\n",
      "\u001b[1;31mAssertionError\u001b[0m: "
     ]
    }
   ],
   "source": [
    "for c in ['total_fat_per_100_cal','sugar_per_100_cal','sodium_per_100_cal','protein_per_100_cal',\n",
    "                          'saturated_fat_per_100_cal','carbohydrates_per_100_cal']:\n",
    "    assert Raw_recipes_df.select(F.count(F.when(F.isnan(c) | F.col(c).isNull(), c)).alias(c)).collect()[0][0] == 0"
   ]
  },
  {
   "cell_type": "markdown",
   "id": "3aba19c4-6bfa-42b4-a6c3-9d38343b2de7",
   "metadata": {},
   "source": [
    "#### Similarly what I do I can't clear this error"
   ]
  },
  {
   "cell_type": "code",
   "execution_count": 28,
   "id": "f0048b25-e025-4fa8-8113-83d458ef84ba",
   "metadata": {},
   "outputs": [
    {
     "name": "stdout",
     "output_type": "stream",
     "text": [
      "root\n",
      " |-- name: string (nullable = true)\n",
      " |-- id: integer (nullable = true)\n",
      " |-- minutes: integer (nullable = true)\n",
      " |-- contributor_id: integer (nullable = true)\n",
      " |-- submitted: date (nullable = true)\n",
      " |-- tags: string (nullable = true)\n",
      " |-- nutrition: string (nullable = true)\n",
      " |-- n_steps: integer (nullable = true)\n",
      " |-- steps: string (nullable = true)\n",
      " |-- description: string (nullable = true)\n",
      " |-- ingredients: string (nullable = true)\n",
      " |-- n_ingredients: integer (nullable = true)\n",
      " |-- calories: float (nullable = true)\n",
      " |-- total_fat_PDV: float (nullable = true)\n",
      " |-- sugar_PDV: float (nullable = true)\n",
      " |-- sodium_PDV: float (nullable = true)\n",
      " |-- protein_PDV: float (nullable = true)\n",
      " |-- saturated_fat_PDV: float (nullable = true)\n",
      " |-- carbohydrates_PDV: float (nullable = true)\n",
      " |-- total_fat_per_100_cal: double (nullable = true)\n",
      " |-- sugar_per_100_cal: double (nullable = true)\n",
      " |-- sodium_per_100_cal: double (nullable = true)\n",
      " |-- protein_per_100_cal: double (nullable = true)\n",
      " |-- saturated_fat_per_100_cal: double (nullable = true)\n",
      " |-- carbohydrates_per_100_cal: double (nullable = true)\n",
      "\n"
     ]
    }
   ],
   "source": [
    "Raw_recipes_df.printSchema()"
   ]
  },
  {
   "cell_type": "code",
   "execution_count": null,
   "id": "c051fb76-d3d5-40aa-aae5-e5e663f38e54",
   "metadata": {},
   "outputs": [],
   "source": []
  },
  {
   "cell_type": "markdown",
   "id": "adc1414d-4425-4883-a098-7554633da296",
   "metadata": {},
   "source": [
    "### Task 04: Convert the tags column from a string to an array of strings "
   ]
  },
  {
   "cell_type": "code",
   "execution_count": 29,
   "id": "5c66bb94-133c-437d-ba29-98e4647f857b",
   "metadata": {},
   "outputs": [],
   "source": [
    "Raw_recipes_df = (Raw_recipes_df.withColumn('tags', F.regexp_replace(\"tags\",\"[\\\\[\\\\]\\\\']\",\"\")).withColumn('tags', F.split(\"tags\",\", \")))"
   ]
  },
  {
   "cell_type": "code",
   "execution_count": 30,
   "id": "a60b0632-1daa-47b1-a0f5-561a7a19fc4b",
   "metadata": {},
   "outputs": [],
   "source": [
    "Raw_Recipes_Df = (Raw_Recipes_Df.withColumn('tags',F.split('tags',',').cast(ArrayType(StringType(),True))))"
   ]
  },
  {
   "cell_type": "code",
   "execution_count": 31,
   "id": "7e967046-4df5-4f5d-8215-106eb84851cf",
   "metadata": {},
   "outputs": [
    {
     "name": "stdout",
     "output_type": "stream",
     "text": [
      "root\n",
      " |-- name: string (nullable = true)\n",
      " |-- id: integer (nullable = true)\n",
      " |-- minutes: integer (nullable = true)\n",
      " |-- contributor_id: integer (nullable = true)\n",
      " |-- submitted: date (nullable = true)\n",
      " |-- tags: array (nullable = true)\n",
      " |    |-- element: string (containsNull = false)\n",
      " |-- nutrition: string (nullable = true)\n",
      " |-- n_steps: integer (nullable = true)\n",
      " |-- steps: string (nullable = true)\n",
      " |-- description: string (nullable = true)\n",
      " |-- ingredients: string (nullable = true)\n",
      " |-- n_ingredients: integer (nullable = true)\n",
      " |-- calories: float (nullable = true)\n",
      " |-- total_fat_PDV: float (nullable = true)\n",
      " |-- sugar_PDV: float (nullable = true)\n",
      " |-- sodium_PDV: float (nullable = true)\n",
      " |-- protein_PDV: float (nullable = true)\n",
      " |-- saturated_fat_PDV: float (nullable = true)\n",
      " |-- carbohydrates_PDV: float (nullable = true)\n",
      " |-- total_fat_per_100_cal: double (nullable = true)\n",
      " |-- sugar_per_100_cal: double (nullable = true)\n",
      " |-- sodium_per_100_cal: double (nullable = true)\n",
      " |-- protein_per_100_cal: double (nullable = true)\n",
      " |-- saturated_fat_per_100_cal: double (nullable = true)\n",
      " |-- carbohydrates_per_100_cal: double (nullable = true)\n",
      "\n"
     ]
    }
   ],
   "source": [
    "Raw_recipes_df.printSchema()"
   ]
  },
  {
   "cell_type": "code",
   "execution_count": 36,
   "id": "9c23a28c-becd-4501-910d-a11830dd12da",
   "metadata": {},
   "outputs": [
    {
     "ename": "AssertionError",
     "evalue": "You have not split the string into an array.",
     "output_type": "error",
     "traceback": [
      "\u001b[1;31m---------------------------------------------------------------------------\u001b[0m",
      "\u001b[1;31mAssertionError\u001b[0m                            Traceback (most recent call last)",
      "Cell \u001b[1;32mIn[36], line 5\u001b[0m\n\u001b[0;32m      1\u001b[0m \u001b[38;5;66;03m# Code check cell\u001b[39;00m\n\u001b[0;32m      2\u001b[0m \u001b[38;5;66;03m# Do not edit cells with assert commands\u001b[39;00m\n\u001b[0;32m      3\u001b[0m \u001b[38;5;66;03m# If an error is shown after running this cell, please recheck your code.  \u001b[39;00m\n\u001b[1;32m----> 5\u001b[0m \u001b[38;5;28;01massert\u001b[39;00m Raw_recipes_df\u001b[38;5;241m.\u001b[39mschema[\u001b[38;5;124m\"\u001b[39m\u001b[38;5;124mtags\u001b[39m\u001b[38;5;124m\"\u001b[39m]\u001b[38;5;241m.\u001b[39mdataType \u001b[38;5;241m==\u001b[39m ArrayType(StringType(), \u001b[38;5;28;01mTrue\u001b[39;00m), \u001b[38;5;124m\"\u001b[39m\u001b[38;5;124mYou have not split the string into an array.\u001b[39m\u001b[38;5;124m\"\u001b[39m\n\u001b[0;32m      6\u001b[0m \u001b[38;5;28;01massert\u001b[39;00m Raw_recipes_df\u001b[38;5;241m.\u001b[39mcollect()[\u001b[38;5;241m2\u001b[39m][\u001b[38;5;241m5\u001b[39m] \u001b[38;5;241m==\u001b[39m [\u001b[38;5;124m'\u001b[39m\u001b[38;5;124mtime-to-make\u001b[39m\u001b[38;5;124m'\u001b[39m,\u001b[38;5;124m'\u001b[39m\u001b[38;5;124mcourse\u001b[39m\u001b[38;5;124m'\u001b[39m, \u001b[38;5;124m'\u001b[39m\u001b[38;5;124mpreparation\u001b[39m\u001b[38;5;124m'\u001b[39m, \u001b[38;5;124m'\u001b[39m\u001b[38;5;124mmain-dish\u001b[39m\u001b[38;5;124m'\u001b[39m, \u001b[38;5;124m'\u001b[39m\u001b[38;5;124mchili\u001b[39m\u001b[38;5;124m'\u001b[39m, \u001b[38;5;124m'\u001b[39m\u001b[38;5;124mcrock-pot-slow-cooker\u001b[39m\u001b[38;5;124m'\u001b[39m, \u001b[38;5;124m'\u001b[39m\u001b[38;5;124mdietary\u001b[39m\u001b[38;5;124m'\u001b[39m, \u001b[38;5;124m'\u001b[39m\u001b[38;5;124mequipment\u001b[39m\u001b[38;5;124m'\u001b[39m, \u001b[38;5;124m'\u001b[39m\u001b[38;5;124m4-hours-or-less\u001b[39m\u001b[38;5;124m'\u001b[39m], \u001b[38;5;124m\"\u001b[39m\u001b[38;5;124mRecheck your string cleaning and splitting operations.\u001b[39m\u001b[38;5;124m\"\u001b[39m\n",
      "\u001b[1;31mAssertionError\u001b[0m: You have not split the string into an array."
     ]
    }
   ],
   "source": [
    "# Code check cell\n",
    "# Do not edit cells with assert commands\n",
    "# If an error is shown after running this cell, please recheck your code.  \n",
    "\n",
    "assert Raw_recipes_df.schema[\"tags\"].dataType == ArrayType(StringType(), True), \"You have not split the string into an array.\"\n",
    "assert Raw_recipes_df.collect()[2][5] == ['time-to-make','course', 'preparation', 'main-dish', 'chili', 'crock-pot-slow-cooker', 'dietary', 'equipment', '4-hours-or-less'], \"Recheck your string cleaning and splitting operations.\""
   ]
  },
  {
   "cell_type": "markdown",
   "id": "2cbe59f5-ef25-47d0-8ef6-faf4c617cfcd",
   "metadata": {},
   "source": [
    "#### This task 4 assertion error no matter what I do I can't clear it. During the pre assignment class expert Amit Ranjan also tries and after the class gave a solution but still it doesn't work."
   ]
  },
  {
   "cell_type": "code",
   "execution_count": 37,
   "id": "f73b09c8-8458-40ea-b498-273074c8d5a4",
   "metadata": {},
   "outputs": [
    {
     "data": {
      "text/plain": [
       "False"
      ]
     },
     "execution_count": 37,
     "metadata": {},
     "output_type": "execute_result"
    }
   ],
   "source": [
    "Raw_recipes_df.schema[\"tags\"].dataType == ArrayType(StringType(), True)\n"
   ]
  },
  {
   "cell_type": "code",
   "execution_count": 38,
   "id": "41e785dd-5d49-450a-9b05-afef4a247c06",
   "metadata": {},
   "outputs": [
    {
     "data": {
      "text/plain": [
       "True"
      ]
     },
     "execution_count": 38,
     "metadata": {},
     "output_type": "execute_result"
    }
   ],
   "source": [
    "Raw_recipes_df.collect()[2][5] == ['time-to-make','course', 'preparation', 'main-dish', 'chili', 'crock-pot-slow-cooker', 'dietary', 'equipment', '4-hours-or-less']"
   ]
  },
  {
   "cell_type": "code",
   "execution_count": null,
   "id": "8d095dd3-027e-4c3b-850d-962a7856493d",
   "metadata": {},
   "outputs": [],
   "source": []
  },
  {
   "cell_type": "markdown",
   "id": "8db072d7-8810-4743-a3ca-59801593117f",
   "metadata": {},
   "source": [
    "# Join Recipe Data to Review Data"
   ]
  },
  {
   "cell_type": "code",
   "execution_count": 40,
   "id": "4e338a63-7501-4108-aa67-e1c1b2af5f91",
   "metadata": {},
   "outputs": [],
   "source": [
    "# Reading the second data set. \n",
    "# keep this cell unedited\n",
    "\n",
    "Raw_ratings_df = (spark.read.csv(\"RAW_interactions_cleaned.csv\", \n",
    "                                 header=True, \n",
    "                                 inferSchema= True)\n",
    "                  .withColumn(\"review_date\",  F.col(\"date\"))\n",
    "                  .drop(F.col(\"date\"))\n",
    "                  )"
   ]
  },
  {
   "cell_type": "code",
   "execution_count": 41,
   "id": "e7690da9-8cf2-4c8b-83e0-75dd7542dde6",
   "metadata": {},
   "outputs": [
    {
     "name": "stdout",
     "output_type": "stream",
     "text": [
      "root\n",
      " |-- user_id: integer (nullable = true)\n",
      " |-- recipe_id: integer (nullable = true)\n",
      " |-- rating: integer (nullable = true)\n",
      " |-- review: string (nullable = true)\n",
      " |-- review_date: date (nullable = true)\n",
      "\n"
     ]
    }
   ],
   "source": [
    "Raw_ratings_df.printSchema()"
   ]
  },
  {
   "cell_type": "code",
   "execution_count": 42,
   "id": "d3388282-ef60-49e1-9eef-99c4d8a79f1c",
   "metadata": {},
   "outputs": [],
   "source": [
    "# Code check cell\n",
    "# Do not edit cells with assert commands\n",
    "# If an error is shown after running this cell, please recheck your code.  \n",
    "\n",
    "assert Raw_ratings_df.count() == 1132367, \"Mistake, check again\"\n",
    "assert len(Raw_ratings_df.columns) == 5, \"Mistake, check again\""
   ]
  },
  {
   "cell_type": "code",
   "execution_count": 43,
   "id": "a4b13c62-77ee-4a30-922b-c2e84536cbfc",
   "metadata": {},
   "outputs": [
    {
     "name": "stdout",
     "output_type": "stream",
     "text": [
      "+-------+---------+------+--------------------+-----------+\n",
      "|user_id|recipe_id|rating|              review|review_date|\n",
      "+-------+---------+------+--------------------+-----------+\n",
      "|  38094|    40893|     4|Great with a sala...| 2003-02-17|\n",
      "|1293707|    40893|     5|So simple  so del...| 2011-12-21|\n",
      "|   8937|    44394|     4|This worked very ...| 2002-12-01|\n",
      "| 126440|    85009|     5|I made the Mexica...| 2010-02-27|\n",
      "|  57222|    85009|     5|Made the cheddar ...| 2011-10-01|\n",
      "+-------+---------+------+--------------------+-----------+\n",
      "only showing top 5 rows\n",
      "\n"
     ]
    }
   ],
   "source": [
    "Raw_ratings_df.show(5)"
   ]
  },
  {
   "cell_type": "markdown",
   "id": "8de2e20a-6d7b-4d1e-8aae-ec580f451fee",
   "metadata": {},
   "source": [
    "### Task 05: Read the second data file "
   ]
  },
  {
   "cell_type": "code",
   "execution_count": 44,
   "id": "4ef6514a-754a-4801-9e7c-8207e5e505f5",
   "metadata": {},
   "outputs": [],
   "source": [
    "Interaction_level_df = Raw_ratings_df.join(Raw_recipes_df,Raw_ratings_df.recipe_id == Raw_recipes_df.id,\"inner\")                                          "
   ]
  },
  {
   "cell_type": "markdown",
   "id": "ee2c39a7-61bf-4a64-acb5-75b453cd6912",
   "metadata": {},
   "source": [
    "#### Test cases for Task 05"
   ]
  },
  {
   "cell_type": "code",
   "execution_count": 45,
   "id": "54003d04-35bb-4751-9424-7eb5c15213e4",
   "metadata": {},
   "outputs": [],
   "source": [
    "# Code check cell\n",
    "# Do not edit cells with assert commands\n",
    "# If an error is shown after running this cell, please recheck your code.  \n",
    "\n",
    "assert (Interaction_level_df.count() ,len(Interaction_level_df.columns)) == (1132367, 30), \"The type of join is incorrect\"\n",
    "\n",
    "list1 = Raw_ratings_df.select('recipe_id').collect()\n",
    "list2 = Raw_recipes_df.select('id').collect()\n",
    "exclusive_set = set(list1)-set(list2)\n",
    "\n",
    "assert len(exclusive_set) == 0, \"There is a mistake in reading one of the two data files.\""
   ]
  },
  {
   "cell_type": "code",
   "execution_count": 46,
   "id": "862cdc82-c724-4edd-976d-db5ac662ef4b",
   "metadata": {},
   "outputs": [
    {
     "data": {
      "text/plain": [
       "True"
      ]
     },
     "execution_count": 46,
     "metadata": {},
     "output_type": "execute_result"
    }
   ],
   "source": [
    "(Interaction_level_df.count() ,len(Interaction_level_df.columns)) == (1132367, 30)"
   ]
  },
  {
   "cell_type": "code",
   "execution_count": null,
   "id": "864eb2be-8cc9-4f9c-99bc-9586a46567a7",
   "metadata": {},
   "outputs": [],
   "source": []
  },
  {
   "cell_type": "markdown",
   "id": "1ddae7df-60f9-403a-bf3c-05da215fed00",
   "metadata": {},
   "source": [
    "# Task 06: Create time-based features"
   ]
  },
  {
   "cell_type": "code",
   "execution_count": 47,
   "id": "0c31d278-f023-4403-9efd-e5254fd8d641",
   "metadata": {},
   "outputs": [],
   "source": [
    "Interaction_level_df = (Interaction_level_df\n",
    "                        .withColumn('submitted',F.col(\"submitted\").cast(\"date\"))\n",
    "                        .withColumn('review_date',F.col(\"review_date\").cast(\"date\")))"
   ]
  },
  {
   "cell_type": "code",
   "execution_count": 48,
   "id": "803dffe2-3052-4bf9-b384-4a36613a39f4",
   "metadata": {},
   "outputs": [],
   "source": [
    "Interaction_level_df = (Interaction_level_df\n",
    "                        .withColumn('days_since_submission_on_review_date',F.datediff(\"review_date\",\"submitted\") # Pyspark function to find the number of days between two dates\n",
    "                                   )\n",
    "                        .withColumn('months_since_submission_on_review_date',F.months_between(\"review_date\",\"submitted\") # Pyspark function to find the number of months between two dates\n",
    "                                   )\n",
    "                        .withColumn('years_since_submission_on_review_date',F.months_between(\"review_date\",\"submitted\")/12 # Pyspark function to find the number of months between two dates / 12\n",
    "                                   )\n",
    "                                   )"
   ]
  },
  {
   "cell_type": "markdown",
   "id": "f2baa7a5-1166-4aa5-a25b-6bb365fae043",
   "metadata": {},
   "source": [
    "### Test cases for Task 06"
   ]
  },
  {
   "cell_type": "code",
   "execution_count": 49,
   "id": "1dd10615-6827-4930-843b-db24c07de4df",
   "metadata": {},
   "outputs": [],
   "source": [
    "# Code check cell\n",
    "# Do not edit cells with assert commands\n",
    "# If an error is shown after running this cell, please recheck your code.  \n",
    "\n",
    "assert Interaction_level_df.schema[\"days_since_submission_on_review_date\"].dataType == IntegerType()\n",
    "\n",
    "assert (Interaction_level_df.filter((Interaction_level_df.user_id == 428885) & (Interaction_level_df.recipe_id == 335241))\n",
    "                            .select('days_since_submission_on_review_date').collect()[0][0]) == 77\n",
    "assert (Interaction_level_df.filter((Interaction_level_df.user_id == 2025676) & (Interaction_level_df.recipe_id == 94265))\n",
    "                            .select('months_since_submission_on_review_date').collect()[0][0]) == 153.22580645\n",
    "assert (Interaction_level_df.filter((Interaction_level_df.user_id == 338588) & (Interaction_level_df.recipe_id == 21859))\n",
    "                            .select('years_since_submission_on_review_date').collect()[0][0]) == 4.564516129166667"
   ]
  },
  {
   "cell_type": "code",
   "execution_count": 50,
   "id": "3ed95d7a-62da-46c1-b29b-b3b231911834",
   "metadata": {},
   "outputs": [
    {
     "data": {
      "text/plain": [
       "True"
      ]
     },
     "execution_count": 50,
     "metadata": {},
     "output_type": "execute_result"
    }
   ],
   "source": [
    "Interaction_level_df.schema[\"days_since_submission_on_review_date\"].dataType == IntegerType()"
   ]
  },
  {
   "cell_type": "code",
   "execution_count": 51,
   "id": "5b6dcc6c-bcbb-4247-b626-8309b56ab0b6",
   "metadata": {},
   "outputs": [
    {
     "data": {
      "text/plain": [
       "True"
      ]
     },
     "execution_count": 51,
     "metadata": {},
     "output_type": "execute_result"
    }
   ],
   "source": [
    "(Interaction_level_df.filter((Interaction_level_df.user_id == 428885) & (Interaction_level_df.recipe_id == 335241))\n",
    "                            .select('days_since_submission_on_review_date').collect()[0][0]) == 77"
   ]
  },
  {
   "cell_type": "code",
   "execution_count": 52,
   "id": "c75f1bb2-984a-4aa5-afe8-48287cebc739",
   "metadata": {},
   "outputs": [
    {
     "data": {
      "text/plain": [
       "True"
      ]
     },
     "execution_count": 52,
     "metadata": {},
     "output_type": "execute_result"
    }
   ],
   "source": [
    "(Interaction_level_df.filter((Interaction_level_df.user_id == 2025676) & (Interaction_level_df.recipe_id == 94265))\n",
    "                            .select('months_since_submission_on_review_date').collect()[0][0]) == 153.22580645"
   ]
  },
  {
   "cell_type": "code",
   "execution_count": 53,
   "id": "f77f037b-69ea-447e-ae4b-51108cb70272",
   "metadata": {},
   "outputs": [
    {
     "data": {
      "text/plain": [
       "True"
      ]
     },
     "execution_count": 53,
     "metadata": {},
     "output_type": "execute_result"
    }
   ],
   "source": [
    "(Interaction_level_df.filter((Interaction_level_df.user_id == 338588) & (Interaction_level_df.recipe_id == 21859))\n",
    "                            .select('years_since_submission_on_review_date').collect()[0][0]) == 4.564516129166667"
   ]
  },
  {
   "cell_type": "markdown",
   "id": "09453a5f-9556-4a70-882d-20b30bb910c3",
   "metadata": {},
   "source": [
    "# Save the data we have created so far in a parquet file."
   ]
  },
  {
   "cell_type": "code",
   "execution_count": 54,
   "id": "3bec1e1b-6ae6-49aa-9325-610372d66b3b",
   "metadata": {},
   "outputs": [
    {
     "name": "stdout",
     "output_type": "stream",
     "text": [
      "root\n",
      " |-- user_id: integer (nullable = true)\n",
      " |-- recipe_id: integer (nullable = true)\n",
      " |-- rating: integer (nullable = true)\n",
      " |-- review: string (nullable = true)\n",
      " |-- review_date: date (nullable = true)\n",
      " |-- name: string (nullable = true)\n",
      " |-- id: integer (nullable = true)\n",
      " |-- minutes: integer (nullable = true)\n",
      " |-- contributor_id: integer (nullable = true)\n",
      " |-- submitted: date (nullable = true)\n",
      " |-- tags: array (nullable = true)\n",
      " |    |-- element: string (containsNull = false)\n",
      " |-- nutrition: string (nullable = true)\n",
      " |-- n_steps: integer (nullable = true)\n",
      " |-- steps: string (nullable = true)\n",
      " |-- description: string (nullable = true)\n",
      " |-- ingredients: string (nullable = true)\n",
      " |-- n_ingredients: integer (nullable = true)\n",
      " |-- calories: float (nullable = true)\n",
      " |-- total_fat_PDV: float (nullable = true)\n",
      " |-- sugar_PDV: float (nullable = true)\n",
      " |-- sodium_PDV: float (nullable = true)\n",
      " |-- protein_PDV: float (nullable = true)\n",
      " |-- saturated_fat_PDV: float (nullable = true)\n",
      " |-- carbohydrates_PDV: float (nullable = true)\n",
      " |-- total_fat_per_100_cal: double (nullable = true)\n",
      " |-- sugar_per_100_cal: double (nullable = true)\n",
      " |-- sodium_per_100_cal: double (nullable = true)\n",
      " |-- protein_per_100_cal: double (nullable = true)\n",
      " |-- saturated_fat_per_100_cal: double (nullable = true)\n",
      " |-- carbohydrates_per_100_cal: double (nullable = true)\n",
      " |-- days_since_submission_on_review_date: integer (nullable = true)\n",
      " |-- months_since_submission_on_review_date: double (nullable = true)\n",
      " |-- years_since_submission_on_review_date: double (nullable = true)\n",
      "\n"
     ]
    }
   ],
   "source": [
    "Interaction_level_df.printSchema()"
   ]
  },
  {
   "cell_type": "code",
   "execution_count": 55,
   "id": "697fa95a-fa12-4e19-8b35-d94443e8c197",
   "metadata": {},
   "outputs": [],
   "source": [
    "assert (Interaction_level_df.count() ,len(Interaction_level_df.columns) ) == (1132367, 33)"
   ]
  },
  {
   "cell_type": "code",
   "execution_count": 56,
   "id": "4be4d04e-0976-42f6-877e-066b8179c5b4",
   "metadata": {},
   "outputs": [
    {
     "data": {
      "text/plain": [
       "True"
      ]
     },
     "execution_count": 56,
     "metadata": {},
     "output_type": "execute_result"
    }
   ],
   "source": [
    "(Interaction_level_df.count() ,len(Interaction_level_df.columns) ) == (1132367, 33)"
   ]
  },
  {
   "cell_type": "code",
   "execution_count": 57,
   "id": "a37c42f8-7bdb-4542-8415-6edcbaff4abb",
   "metadata": {},
   "outputs": [
    {
     "name": "stdout",
     "output_type": "stream",
     "text": [
      "+-------+---------+------+--------------------+-----------+--------------------+---+-------+--------------+----------+--------------------+--------------------+-------+--------------------+--------------------+--------------------+-------------+--------+-------------+---------+----------+-----------+-----------------+-----------------+---------------------+-----------------+------------------+-------------------+-------------------------+-------------------------+------------------------------------+--------------------------------------+-------------------------------------+\n",
      "|user_id|recipe_id|rating|              review|review_date|                name| id|minutes|contributor_id| submitted|                tags|           nutrition|n_steps|               steps|         description|         ingredients|n_ingredients|calories|total_fat_PDV|sugar_PDV|sodium_PDV|protein_PDV|saturated_fat_PDV|carbohydrates_PDV|total_fat_per_100_cal|sugar_per_100_cal|sodium_per_100_cal|protein_per_100_cal|saturated_fat_per_100_cal|carbohydrates_per_100_cal|days_since_submission_on_review_date|months_since_submission_on_review_date|years_since_submission_on_review_date|\n",
      "+-------+---------+------+--------------------+-----------+--------------------+---+-------+--------------+----------+--------------------+--------------------+-------+--------------------+--------------------+--------------------+-------------+--------+-------------+---------+----------+-----------+-----------------+-----------------+---------------------+-----------------+------------------+-------------------+-------------------------+-------------------------+------------------------------------+--------------------------------------+-------------------------------------+\n",
      "| 557764|       53|     3|First Jimmy let m...| 2009-07-09|jimmy g s carrot ...| 53|    110|          1772|1999-09-08|[weeknight, time-...|372.9, 16.0, 163....|     15|['grease and ligh...|                    |['all-purpose flo...|           13|   372.9|         16.0|    163.0|       7.0|       13.0|             16.0|             22.0|    4.290694626410088|43.71145150655277|1.8771788990544134| 3.4861893839581963|        4.290694626410088|        5.899705111313871|                                3592|                          118.03225806|                          9.836021505|\n",
      "|  27678|       85|     5|A perfect cake. I...| 2005-03-25| butter madeira cake| 85|    175|          1543|1999-09-12|[weeknight, time-...|373.8, 30.0, 88.0...|     15|['grease lined ti...|this is a good st...|['flour', 'baking...|            7|   373.8|         30.0|     88.0|      10.0|       11.0|             59.0|             14.0|     8.02568244507693|23.54200183889233|  2.67522748169231|  2.942750229861541|       15.783842141984628|        3.745318474369234|                                2021|                           66.41935484|                    5.534946236666666|\n",
      "| 273254|       85|     5|This recipe is so...| 2009-02-09| butter madeira cake| 85|    175|          1543|1999-09-12|[weeknight, time-...|373.8, 30.0, 88.0...|     15|['grease lined ti...|this is a good st...|['flour', 'baking...|            7|   373.8|         30.0|     88.0|      10.0|       11.0|             59.0|             14.0|     8.02568244507693|23.54200183889233|  2.67522748169231|  2.942750229861541|       15.783842141984628|        3.745318474369234|                                3438|                          112.90322581|                    9.408602150833334|\n",
      "| 153188|      108|     3|This is really go...| 2007-12-01|buttermilk pie in...|108|    100|          1535|1999-08-06|[weeknight, time-...|459.0, 29.0, 163....|     24|['for pastry: sif...|post by request. ...|['flour', 'salt',...|           14|   459.0|         29.0|    163.0|      13.0|       21.0|             32.0|             20.0|    6.318082788671024| 35.5119825708061| 2.832244008714597|   4.57516339869281|        6.971677559912854|        4.357298474945534|                                3039|                           99.83870968|                    8.319892473333333|\n",
      "| 735593|      108|     3|Okay  the crust w...| 2009-08-10|buttermilk pie in...|108|    100|          1535|1999-08-06|[weeknight, time-...|459.0, 29.0, 163....|     24|['for pastry: sif...|post by request. ...|['flour', 'salt',...|           14|   459.0|         29.0|    163.0|      13.0|       21.0|             32.0|             20.0|    6.318082788671024| 35.5119825708061| 2.832244008714597|   4.57516339869281|        6.971677559912854|        4.357298474945534|                                3657|                          120.12903226|                   10.010752688333334|\n",
      "+-------+---------+------+--------------------+-----------+--------------------+---+-------+--------------+----------+--------------------+--------------------+-------+--------------------+--------------------+--------------------+-------------+--------+-------------+---------+----------+-----------+-----------------+-----------------+---------------------+-----------------+------------------+-------------------+-------------------------+-------------------------+------------------------------------+--------------------------------------+-------------------------------------+\n",
      "only showing top 5 rows\n",
      "\n"
     ]
    }
   ],
   "source": [
    "Interaction_level_df.show(5)"
   ]
  },
  {
   "cell_type": "code",
   "execution_count": null,
   "id": "2111a8d8-cd7f-462b-8171-ee3ae0f1fe66",
   "metadata": {},
   "outputs": [],
   "source": []
  },
  {
   "cell_type": "code",
   "execution_count": null,
   "id": "a2796785-8c7a-49f6-938c-4a440d53b7d5",
   "metadata": {},
   "outputs": [],
   "source": []
  },
  {
   "cell_type": "markdown",
   "id": "e89269f0-777d-423a-a10b-1b525824881f",
   "metadata": {},
   "source": [
    "# EDA"
   ]
  },
  {
   "cell_type": "markdown",
   "id": "9b389baf-4767-4177-a964-24860194e0cc",
   "metadata": {},
   "source": [
    "## Initial Step"
   ]
  },
  {
   "cell_type": "code",
   "execution_count": 57,
   "id": "e490ec5b-c50d-41d0-a8e4-f65302b6cd20",
   "metadata": {},
   "outputs": [],
   "source": [
    "# # Run this everytime you create a new spark instance. \n",
    "\n",
    "# spark.sparkContext.install_pypi_package(\"plotly==5.5.0\")\n",
    "# spark.sparkContext.install_pypi_package(\"pandas==0.25.1\")\n",
    "# spark.sparkContext.install_pypi_package(\"numpy==1.14.5\")\n",
    "# spark.sparkContext.install_pypi_package(\"matplotlib==3.1.1\")"
   ]
  },
  {
   "cell_type": "markdown",
   "id": "ef9a6acd-c529-4801-b219-ce2cabe643d4",
   "metadata": {},
   "source": [
    "## Defining Custom Functions"
   ]
  },
  {
   "cell_type": "code",
   "execution_count": 58,
   "id": "c82fc0e9-2346-4c31-b8b2-1aa3b67ad240",
   "metadata": {},
   "outputs": [],
   "source": [
    "def get_quantiles(df, col_name, quantiles_list = [0.01, 0.25, 0.5, 0.75, 0.99]):\n",
    "    \"\"\"\n",
    "    Takes a numerical column and returns column values at requested quantiles\n",
    "\n",
    "    Inputs \n",
    "    Argument 1: Dataframe\n",
    "    Argument 2: Name of the column\n",
    "    Argument 3: A list of quantiles you want to find. Default value [0.01, 0.25, 0.5, 0.75, 0.99]\n",
    "\n",
    "    Output \n",
    "    Returns a dictionary with quantiles as keys and column quantile values as values \n",
    "    \"\"\"\n",
    "    # Get min, max and quantile values for given column\n",
    "    min_val = df.agg(F.min(col_name)).first()[0]\n",
    "    max_val = df.agg(F.max(col_name)).first()[0]\n",
    "    quantiles_vals = df.approxQuantile(col_name,\n",
    "                                       quantiles_list,\n",
    "                                       0)\n",
    "  \n",
    "    # Store min, quantiles and max in output dict, sequentially\n",
    "    quantiles_dict = {0.0:min_val}\n",
    "    quantiles_dict.update(dict(zip(quantiles_list, quantiles_vals)))\n",
    "    quantiles_dict.update({1.0:max_val})\n",
    "    return(quantiles_dict)"
   ]
  },
  {
   "cell_type": "code",
   "execution_count": 59,
   "id": "56157fb6-4c48-464b-82d3-1c4ade344f9d",
   "metadata": {},
   "outputs": [],
   "source": [
    "\n",
    "def plot_bucketwise_statistics (summary, bucketizer):\n",
    "    \"\"\"\n",
    "    Takes in a dataframe and a bucketizer object and plots the summary statistics for each bucket in the dataframe. \n",
    "  \n",
    "    Inputs\n",
    "    Argument 1: Pandas dataframe obtained from bucket_col_print_summary function \n",
    "    Argument 2: Bucketizer object obtained from bucket_col_print_summary function\n",
    "  \n",
    "    Output\n",
    "    Displays a plot of bucketwise average ratings nunber of ratings of a parameter.   \n",
    "    \"\"\"\n",
    "    # Creating bucket labels from splits\n",
    "    classlist = bucketizer.getSplits()\n",
    "    number_of_classes = len(classlist) - 1\n",
    "\n",
    "    class_labels = []\n",
    "    hover_labels = []\n",
    "    for i in range (number_of_classes):\n",
    "        hover_labels.append(str(classlist[i])+\"-\"+str(classlist[i+1]) +\" (Bucket name: \"+ str(int(i)) +\")\"  )\n",
    "        class_labels.append(str(classlist[i])+\"-\"+str(classlist[i+1]) )\n",
    "  \n",
    "    summary[\"Scaled_number\"] = (summary[\"n_ratings\"]-summary[\"n_ratings\"].min())/(summary[\"n_ratings\"].max()-summary[\"n_ratings\"].min()) + 1.5\n",
    "    summary['Bucket_Names'] = class_labels\n",
    "  \n",
    "    # making plot\n",
    "    x = summary[\"Bucket_Names\"]\n",
    "    y1 = summary[\"avg_rating\"]\n",
    "    y2 = summary[\"n_ratings\"]\n",
    "    err = summary[\"stddev_rating\"]  \n",
    "\n",
    "    # Plot scatter here\n",
    "    plt.rcParams[\"figure.figsize\"] = [summary.shape[0]+2, 6.0]\n",
    "    plt.rcParams[\"figure.autolayout\"] = True\n",
    "    fig, ax1 = plt.subplots()\n",
    "\n",
    "    bar = ax1.bar(x, y1, color = \"#262261\")\n",
    "    ax1.errorbar(x, y1, yerr=err, fmt=\"o\", color=\"#EE4036\")\n",
    "    ax1.set(ylim=(0, 7))\n",
    "  \n",
    "    #ax1.bar_label(bar , fmt='%.2f', label_type='edge')  \n",
    "    def barlabel(x_list,y_list):\n",
    "        for i in range(len(x_list)):\n",
    "            ax1.text(i,y_list[i] + 0.2,y_list[i], ha = 'center',\n",
    "  \t\t\t         fontdict=dict(size=10),\n",
    "  \t\t\t         bbox=dict(facecolor='#262261', alpha=0.2)         \n",
    "  \t\t\t        )\n",
    "    barlabel(summary[\"Bucket_Names\"].tolist() ,summary[\"avg_rating\"].round(2).tolist())\n",
    "  \n",
    "    ax2 = ax1.twinx()\n",
    "    ax2.scatter(x, y2, s=summary[\"Scaled_number\"]*500, c = '#FAAF40')  \n",
    "    ax2.set(ylim=(0, summary[\"n_ratings\"].max()*1.15))\n",
    "    def scatterlabel(x_list,y_list):\n",
    "  \t    for i in range(len(x_list)):\n",
    "  \t\t    ax2.text(i,y_list[i] + 15000,y_list[i], ha = 'center',\n",
    "  \t\t\t\t\t fontdict=dict(size=10),\n",
    "                     bbox=dict(facecolor='#FAAF40', alpha=0.5)\n",
    "  \t\t\t\t\t)\n",
    "    scatterlabel(summary[\"Bucket_Names\"].tolist() ,summary[\"n_ratings\"].tolist())\n",
    "  \n",
    "    # giving labels to the axises\n",
    "    ax1.set_xlabel(bucketizer.getOutputCol(), fontdict=dict(size=14)) \n",
    "    ax1.set_ylabel(\"Average Ratings\",fontdict=dict(size=14))\n",
    "  \n",
    "    # secondary y-axis label\n",
    "    ax2.set_ylabel('Number of Ratings',fontdict=dict(size=14))\n",
    "  \n",
    "    #plot Title\n",
    "    plt.title('Bucketwise average ratings and number of ratings for \\n'+bucketizer.getInputCol(), \n",
    "              fontdict=dict(size=14))  "
   ]
  },
  {
   "cell_type": "code",
   "execution_count": 60,
   "id": "7b856d8e-c532-4d01-b747-196d5d9338e3",
   "metadata": {},
   "outputs": [],
   "source": [
    "def bucket_col_print_summary(df, splits, inputCol, outputCol):\n",
    "    \"\"\"\n",
    "    Given a numerical column in a data frame, adds a bucketized version of the column to the data frame, according to splits provided.\n",
    "    Also prints a summary of ratings seen in each bucket made.\n",
    "\n",
    "    Inputs \n",
    "    Argument 1: Data Frame \n",
    "    Argument 2: Values at which the column will be split\n",
    "    Argument 3: Name of the input column (numerical column)\n",
    "    Argument 4: Name of the output column (bucketized numerical column)\n",
    "\n",
    "    Output: \n",
    "    1) New dataframe with the output column added\n",
    "    2) Bucketizer object trained from the input column \n",
    "    3) Pandas dataframe with summary statistics for ratings seen in buckets of the output column\n",
    "    Also plots summary statistics for ratings seen in buckets of the output column\n",
    "    \"\"\"\n",
    "\n",
    "    # Dropping bucket if it already exists\n",
    "    if outputCol in df.columns:\n",
    "        df = df.drop(outputCol)\n",
    "\n",
    "    # Training bucketizer\n",
    "    bucketizer = Bucketizer(splits = splits,\n",
    "                            inputCol  = inputCol,\n",
    "                            outputCol = outputCol)\n",
    "    \n",
    "    df = bucketizer.setHandleInvalid(\"keep\").transform(df)\n",
    "\n",
    "    # Printing meta information on buckets created\n",
    "    print(\"Added bucketized column {}\".format(outputCol))\n",
    "    print(\"\")\n",
    "    print(\"Bucketing done for split definition: {}\".format(splits))\n",
    "    print(\"\")  \n",
    "    print(\"Printing summary statistics for ratings in buckets below:\")\n",
    "\n",
    "    # Creating a summary statistics dataframe and passing it to the plotting function\n",
    "    summary =  (df\n",
    "                .groupBy(outputCol)\n",
    "                .agg(F.avg('rating').alias('avg_rating'),\n",
    "                     F.stddev('rating').alias('stddev_rating'),\n",
    "                     F.count('rating').alias('n_ratings'))\n",
    "                .sort(outputCol)\n",
    "                .toPandas())\n",
    "  \n",
    "    plot_bucketwise_statistics(summary,bucketizer)\n",
    "  \n",
    "    return df, bucketizer, summary"
   ]
  },
  {
   "cell_type": "code",
   "execution_count": 61,
   "id": "ac8004f1-6664-4eda-8256-d98befc28ca0",
   "metadata": {},
   "outputs": [],
   "source": [
    "def get_column_distribution_summary(df, col_name):\n",
    "    \"\"\"\n",
    "    Takes a column in a data frame and prints the summary statistics (average, standard deviation, count and distinct count) for all unique values in that column.\n",
    "  \n",
    "    Inputs \n",
    "    Argument 1: Dataframe \n",
    "    Argument 2: Name of the column\n",
    "  \n",
    "    Output\n",
    "    Returns nothing \n",
    "    Prints a Dataframe with summary statistics\n",
    "    \"\"\"\n",
    "    print(df\n",
    "          .groupBy(col_name)\n",
    "          .agg(F.avg('rating').alias('avg_rating'),\n",
    "               F.stddev('rating').alias('stddev_rating'),\n",
    "               F.count('rating').alias('n_ratings'),\n",
    "               F.countDistinct('id').alias('n_recipes'))\n",
    "          .sort(F.col(col_name).asc())\n",
    "          .show(50))"
   ]
  },
  {
   "cell_type": "code",
   "execution_count": 62,
   "id": "9fe734a5-55c4-4d82-b6c0-4788ac777156",
   "metadata": {},
   "outputs": [],
   "source": [
    "def get_n_items_satisfying_condition (df, condition, aggregation_level = \"recipe\"):\n",
    "    \"\"\"\n",
    "    Given a condition, find the number of recipes / reviews that match the condition.\n",
    "    Also calculates the percentage of such recipes / reviews as a percentage of all recipes / reviews.\n",
    "  \n",
    "    Inputs \n",
    "    Argument 1: Dataframe \n",
    "    Argument 2: Logical expression describing a condition, string type. eg: \"minutes == 0\"\n",
    "    Argument 3: Aggregation level for determining \"items\", either  \"recipe\" or \"review\". Default value == \"recipe\"\n",
    "  \n",
    "    Output: Returns no object.\n",
    "    Prints the following:\n",
    "    1) Number of recipes / reviews that satisfy the condition\n",
    "    2) Total number of recipes / reviews in the dataframe\n",
    "    3) Percentage of recipes / reviews that satisfy the condition\n",
    "    \"\"\"\n",
    "    # Find out num rows satisfying the condition\n",
    "    if aggregation_level == \"recipe\": \n",
    "        number_of_rows_satisfying_condition = (df\n",
    "                                             .filter(condition)\n",
    "                                             .agg(F.countDistinct(\"id\"))).first()[0]\n",
    "      \n",
    "        n_rows_total = (df.agg(F.countDistinct(\"id\"))).first()[0]\n",
    "    if aggregation_level == \"review\":\n",
    "        number_of_rows_satisfying_condition = (df\n",
    "                                             .filter(condition)\n",
    "                                             .agg(F.countDistinct(\"id\",\"user_id\"))).first()[0]\n",
    "        n_rows_total = (df.agg(F.countDistinct(\"id\",\"user_id\"))).first()[0]\n",
    "  \n",
    "    # Find out % rows satisfying the conditon and print a properly formatted output\n",
    "    perc_rows = round(number_of_rows_satisfying_condition * 100/ n_rows_total, 2)\n",
    "    print('Condition String                   : \"{}\"'.format(condition))\n",
    "    print(\"Num {}s Satisfying Condition   : {} [{}%]\".format(aggregation_level.title(), number_of_rows_satisfying_condition, perc_rows))\n",
    "    print(\"Total Num {}s                  : {}\".format(aggregation_level.title(), n_rows_total))"
   ]
  },
  {
   "cell_type": "code",
   "execution_count": null,
   "id": "3d325480-0563-4923-bccf-fff4fcdd9833",
   "metadata": {},
   "outputs": [],
   "source": []
  },
  {
   "cell_type": "code",
   "execution_count": null,
   "id": "cf978891-d090-4c37-a493-6951222537c9",
   "metadata": {},
   "outputs": [],
   "source": []
  },
  {
   "cell_type": "markdown",
   "id": "681eb895-f58b-4735-8f6b-7c290a53d49f",
   "metadata": {},
   "source": [
    "# Read The Data"
   ]
  },
  {
   "cell_type": "code",
   "execution_count": 63,
   "id": "5a556aaa-9a00-4b6c-b594-4b678120dd7c",
   "metadata": {},
   "outputs": [],
   "source": [
    "# Code check cell\n",
    "# Do not edit cells with assert commands\n",
    "# If an error is shown after running this cell, please recheck your code.  \n",
    "\n",
    "assert Interaction_level_df.count() == 1132367, \"There is a mistake in reading the data.\"\n",
    "assert len(Interaction_level_df.columns) == 33, \"There is a mistake in reading the data.\""
   ]
  },
  {
   "cell_type": "code",
   "execution_count": 61,
   "id": "d6598e5e-aa80-4ec0-8917-63a78e31d213",
   "metadata": {},
   "outputs": [
    {
     "name": "stdout",
     "output_type": "stream",
     "text": [
      "+-------+---------+------+--------------------+-----------+--------------------+---+-------+--------------+----------+--------------------+--------------------+-------+--------------------+--------------------+--------------------+-------------+--------+-------------+---------+----------+-----------+-----------------+-----------------+---------------------+-----------------+------------------+-------------------+-------------------------+-------------------------+------------------------------------+--------------------------------------+-------------------------------------+\n",
      "|user_id|recipe_id|rating|              review|review_date|                name| id|minutes|contributor_id| submitted|                tags|           nutrition|n_steps|               steps|         description|         ingredients|n_ingredients|calories|total_fat_PDV|sugar_PDV|sodium_PDV|protein_PDV|saturated_fat_PDV|carbohydrates_PDV|total_fat_per_100_cal|sugar_per_100_cal|sodium_per_100_cal|protein_per_100_cal|saturated_fat_per_100_cal|carbohydrates_per_100_cal|days_since_submission_on_review_date|months_since_submission_on_review_date|years_since_submission_on_review_date|\n",
      "+-------+---------+------+--------------------+-----------+--------------------+---+-------+--------------+----------+--------------------+--------------------+-------+--------------------+--------------------+--------------------+-------------+--------+-------------+---------+----------+-----------+-----------------+-----------------+---------------------+-----------------+------------------+-------------------+-------------------------+-------------------------+------------------------------------+--------------------------------------+-------------------------------------+\n",
      "| 557764|       53|     3|First Jimmy let m...| 2009-07-09|jimmy g s carrot ...| 53|    110|          1772|1999-09-08|[weeknight, time-...|372.9, 16.0, 163....|     15|['grease and ligh...|                    |['all-purpose flo...|           13|   372.9|         16.0|    163.0|       7.0|       13.0|             16.0|             22.0|    4.290694626410088|43.71145150655277|1.8771788990544134| 3.4861893839581963|        4.290694626410088|        5.899705111313871|                                3592|                          118.03225806|                          9.836021505|\n",
      "|  27678|       85|     5|A perfect cake. I...| 2005-03-25| butter madeira cake| 85|    175|          1543|1999-09-12|[weeknight, time-...|373.8, 30.0, 88.0...|     15|['grease lined ti...|this is a good st...|['flour', 'baking...|            7|   373.8|         30.0|     88.0|      10.0|       11.0|             59.0|             14.0|     8.02568244507693|23.54200183889233|  2.67522748169231|  2.942750229861541|       15.783842141984628|        3.745318474369234|                                2021|                           66.41935484|                    5.534946236666666|\n",
      "| 273254|       85|     5|This recipe is so...| 2009-02-09| butter madeira cake| 85|    175|          1543|1999-09-12|[weeknight, time-...|373.8, 30.0, 88.0...|     15|['grease lined ti...|this is a good st...|['flour', 'baking...|            7|   373.8|         30.0|     88.0|      10.0|       11.0|             59.0|             14.0|     8.02568244507693|23.54200183889233|  2.67522748169231|  2.942750229861541|       15.783842141984628|        3.745318474369234|                                3438|                          112.90322581|                    9.408602150833334|\n",
      "| 153188|      108|     3|This is really go...| 2007-12-01|buttermilk pie in...|108|    100|          1535|1999-08-06|[weeknight, time-...|459.0, 29.0, 163....|     24|['for pastry: sif...|post by request. ...|['flour', 'salt',...|           14|   459.0|         29.0|    163.0|      13.0|       21.0|             32.0|             20.0|    6.318082788671024| 35.5119825708061| 2.832244008714597|   4.57516339869281|        6.971677559912854|        4.357298474945534|                                3039|                           99.83870968|                    8.319892473333333|\n",
      "| 735593|      108|     3|Okay  the crust w...| 2009-08-10|buttermilk pie in...|108|    100|          1535|1999-08-06|[weeknight, time-...|459.0, 29.0, 163....|     24|['for pastry: sif...|post by request. ...|['flour', 'salt',...|           14|   459.0|         29.0|    163.0|      13.0|       21.0|             32.0|             20.0|    6.318082788671024| 35.5119825708061| 2.832244008714597|   4.57516339869281|        6.971677559912854|        4.357298474945534|                                3657|                          120.12903226|                   10.010752688333334|\n",
      "+-------+---------+------+--------------------+-----------+--------------------+---+-------+--------------+----------+--------------------+--------------------+-------+--------------------+--------------------+--------------------+-------------+--------+-------------+---------+----------+-----------+-----------------+-----------------+---------------------+-----------------+------------------+-------------------+-------------------------+-------------------------+------------------------------------+--------------------------------------+-------------------------------------+\n",
      "only showing top 5 rows\n",
      "\n"
     ]
    }
   ],
   "source": [
    "Interaction_level_df.show(5)"
   ]
  },
  {
   "cell_type": "code",
   "execution_count": null,
   "id": "3d384272-14c9-4684-abf6-6daec7dc9e45",
   "metadata": {},
   "outputs": [],
   "source": []
  },
  {
   "cell_type": "code",
   "execution_count": null,
   "id": "4e41b2af-5c04-4292-9e22-29766f2a4b11",
   "metadata": {},
   "outputs": [],
   "source": []
  },
  {
   "cell_type": "markdown",
   "id": "75c62bb5-feaa-40ff-b554-9fd9efef85ef",
   "metadata": {},
   "source": [
    "# Bucketing and Cleaning Numerical Features"
   ]
  },
  {
   "cell_type": "markdown",
   "id": "10703a21-2992-4f49-89c2-88157acbb82e",
   "metadata": {},
   "source": [
    "## 1. years_since_submission_on_review_date"
   ]
  },
  {
   "cell_type": "code",
   "execution_count": 64,
   "id": "8fe22e9a-48b7-418c-8eab-94d4c4b821b6",
   "metadata": {},
   "outputs": [
    {
     "data": {
      "text/plain": [
       "{0.0: -4.833333333333333,\n",
       " 0.01: 0.005376344166666667,\n",
       " 0.25: 0.8602150541666668,\n",
       " 0.5: 2.9489247308333333,\n",
       " 0.75: 5.844086021666667,\n",
       " 0.99: 14.626344085833333,\n",
       " 1.0: 19.284946236666666}"
      ]
     },
     "execution_count": 64,
     "metadata": {},
     "output_type": "execute_result"
    }
   ],
   "source": [
    "get_quantiles(df = Interaction_level_df,\n",
    "              col_name = \"years_since_submission_on_review_date\")"
   ]
  },
  {
   "cell_type": "code",
   "execution_count": 65,
   "id": "995224a8-dfe2-4727-9559-d18dd2eae2e8",
   "metadata": {},
   "outputs": [
    {
     "name": "stdout",
     "output_type": "stream",
     "text": [
      "Condition String                   : \"years_since_submission_on_review_date < 0\"\n",
      "Num Reviews Satisfying Condition   : 1246 [0.11%]\n",
      "Total Num Reviews                  : 1132367\n"
     ]
    }
   ],
   "source": [
    "get_n_items_satisfying_condition(df = Interaction_level_df,\n",
    "                                 condition= 'years_since_submission_on_review_date < 0',\n",
    "                                 aggregation_level= \"review\")"
   ]
  },
  {
   "cell_type": "code",
   "execution_count": 66,
   "id": "49053bf0-2e1b-4858-b63a-d418f54ce94f",
   "metadata": {},
   "outputs": [],
   "source": [
    "# Only keep interactions with review dates >= recipe submission date\n",
    "\n",
    "interaction_level_df = (Interaction_level_df\n",
    "                        .filter('years_since_submission_on_review_date >= 0'))"
   ]
  },
  {
   "cell_type": "code",
   "execution_count": 69,
   "id": "46729f83-ed60-4171-b6eb-3110846e470e",
   "metadata": {},
   "outputs": [],
   "source": [
    "splits = [ 0, 1, 3, 6, float('Inf')]\n",
    "inputCol  = \"years_since_submission_on_review_date\"\n",
    "outputCol = \"years_since_submission_on_review_date_bucket\"\n",
    "\n",
    "(Interaction_level_df, submission_time_bucketizer, submission_time_pandas_df) = bucket_col_print_summary(df = Interaction_level_df,\n",
    "                                                                              splits = splits,\n",
    "                                                                              inputCol  = inputCol,\n",
    "                                                                              outputCol = outputCol)"
   ]
  },
  {
   "cell_type": "markdown",
   "id": "3df71e7d-57cc-490b-8ce5-e945338c68d4",
   "metadata": {},
   "source": [
    "### 2. minutes\n",
    "[prep time]\n",
    "\n",
    "Somewhat relevant\n",
    "Low prep time is preferred"
   ]
  },
  {
   "cell_type": "code",
   "execution_count": 70,
   "id": "49608900-fc75-455d-a5af-16e554ef6d73",
   "metadata": {},
   "outputs": [
    {
     "data": {
      "text/plain": [
       "{0.0: 0,\n",
       " 0.01: 2.0,\n",
       " 0.05: 5.0,\n",
       " 0.25: 20.0,\n",
       " 0.5: 40.0,\n",
       " 0.75: 70.0,\n",
       " 0.95: 310.0,\n",
       " 0.99: 930.0,\n",
       " 1.0: 2147483647}"
      ]
     },
     "execution_count": 70,
     "metadata": {},
     "output_type": "execute_result"
    }
   ],
   "source": [
    "get_quantiles(df = Interaction_level_df,\n",
    "              col_name = \"minutes\",\n",
    "              quantiles_list=[0.01, 0.05, 0.25, 0.5, 0.75, 0.95, 0.99])"
   ]
  },
  {
   "cell_type": "code",
   "execution_count": 71,
   "id": "8245cd51-c14f-40aa-8fde-1d7fa5dd6e2a",
   "metadata": {},
   "outputs": [],
   "source": [
    "# Capping prep time at 930 minutes\n",
    "\n",
    "interaction_level_df = (Interaction_level_df\n",
    "                        .withColumn(\"minutes\",\n",
    "                                    F.when(Interaction_level_df[\"minutes\"] > 930, 930)\n",
    "                                     .otherwise(Interaction_level_df[\"minutes\"])))"
   ]
  },
  {
   "cell_type": "code",
   "execution_count": 72,
   "id": "9c8dcfe1-2818-45c8-89a4-ee2151299ec0",
   "metadata": {},
   "outputs": [
    {
     "name": "stdout",
     "output_type": "stream",
     "text": [
      "+----------------+------------------+------------------+---------+---------+\n",
      "|n_steps_modified|        avg_rating|     stddev_rating|n_ratings|n_recipes|\n",
      "+----------------+------------------+------------------+---------+---------+\n",
      "|              01|              4.24|1.0908712114635715|       25|       12|\n",
      "|              02|4.4423076923076925|1.0867866867350398|      104|       28|\n",
      "|              03| 3.989130434782609|1.5750414356065068|      184|       44|\n",
      "|              04|  4.30635838150289| 1.386737441364113|      173|       57|\n",
      "|              05| 4.231788079470198|1.3563861924663059|      302|       90|\n",
      "|              06|       4.470703125|1.1463893346523668|      512|      102|\n",
      "|              07|4.3447432762836184|1.2875641979464003|      409|       92|\n",
      "|              08| 4.381995133819951| 1.277408546667124|      411|       92|\n",
      "|              09| 4.076190476190476| 1.527008887317695|      315|       86|\n",
      "|           >= 10| 4.241329479768786|1.3765845512762562|     2076|      491|\n",
      "+----------------+------------------+------------------+---------+---------+\n",
      "\n",
      "None\n"
     ]
    }
   ],
   "source": [
    "# investigating recipes with minutes = 0 -> Look at n_steps for such recipes.\n",
    "\n",
    "get_column_distribution_summary(df = (Interaction_level_df\n",
    "                                      .filter('minutes == 0')\n",
    "                                      .withColumn('n_steps_modified', (F.when(Interaction_level_df['n_steps'] >= 10, \">= 10\")\n",
    "                                                                        .otherwise(F.lpad(Interaction_level_df['n_steps'],2,\"0\"))))),\n",
    "                                col_name = 'n_steps_modified')"
   ]
  },
  {
   "cell_type": "code",
   "execution_count": 73,
   "id": "4f42d7e4-890a-4fcc-bdfa-c8fead41a5a8",
   "metadata": {},
   "outputs": [
    {
     "name": "stdout",
     "output_type": "stream",
     "text": [
      "+-------+---------+------+--------------------+-----------+-------------------+-----+-------+--------------+----------+--------------------+--------------------+-------+--------------------+--------------------+--------------------+-------------+--------+-------------+---------+----------+-----------+-----------------+-----------------+---------------------+-----------------+------------------+-------------------+-------------------------+-------------------------+------------------------------------+--------------------------------------+-------------------------------------+\n",
      "|user_id|recipe_id|rating|              review|review_date|               name|   id|minutes|contributor_id| submitted|                tags|           nutrition|n_steps|               steps|         description|         ingredients|n_ingredients|calories|total_fat_PDV|sugar_PDV|sodium_PDV|protein_PDV|saturated_fat_PDV|carbohydrates_PDV|total_fat_per_100_cal|sugar_per_100_cal|sodium_per_100_cal|protein_per_100_cal|saturated_fat_per_100_cal|carbohydrates_per_100_cal|days_since_submission_on_review_date|months_since_submission_on_review_date|years_since_submission_on_review_date|\n",
      "+-------+---------+------+--------------------+-----------+-------------------+-----+-------+--------------+----------+--------------------+--------------------+-------+--------------------+--------------------+--------------------+-------------+--------+-------------+---------+----------+-----------+-----------------+-----------------+---------------------+-----------------+------------------+-------------------+-------------------------+-------------------------+------------------------------------+--------------------------------------+-------------------------------------+\n",
      "|  59064|    78355|     3|This recipe taste...| 2004-01-16| garlic basil bread|78355|      0|        111843|2003-12-09|[15-minutes-or-le...|1188.6, 27.0, 70....|      1|['dump in bread m...|this is definitel...|['yeast', 'basil'...|            8|  1188.6|         27.0|     70.0|     100.0|       69.0|             26.0|             73.0|    2.271580056754583|5.889281628622993|  8.41325946946142|  5.805149033928379|        2.187447462059969|        6.141679412706836|                                  38|                            1.22580645|                  0.10215053750000001|\n",
      "|  26142|     3572|     5|Thanks  Great Rec...| 2001-12-14|apple snicker salad| 3572|      0|          1754|1999-09-23|[15-minutes-or-le...|1540.7, 123.0, 66...|      1|['stir these into...|here is a simple ...|['yellow apples',...|            4|  1540.7|        123.0|    666.0|      13.0|       29.0|            289.0|             67.0|    7.983384429034655|43.22710593282179| 0.843772338028053|  1.882261369447195|       18.757708130008254|        4.348672819067658|                                 813|                           26.70967742|                   2.2258064516666667|\n",
      "|  50053|     3572|     5|I loved this reci...| 2003-01-03|apple snicker salad| 3572|      0|          1754|1999-09-23|[15-minutes-or-le...|1540.7, 123.0, 66...|      1|['stir these into...|here is a simple ...|['yellow apples',...|            4|  1540.7|        123.0|    666.0|      13.0|       29.0|            289.0|             67.0|    7.983384429034655|43.22710593282179| 0.843772338028053|  1.882261369447195|       18.757708130008254|        4.348672819067658|                                1198|                           39.35483871|                         3.2795698925|\n",
      "| 149415|     3572|     4|What's not to lik...| 2004-09-21|apple snicker salad| 3572|      0|          1754|1999-09-23|[15-minutes-or-le...|1540.7, 123.0, 66...|      1|['stir these into...|here is a simple ...|['yellow apples',...|            4|  1540.7|        123.0|    666.0|      13.0|       29.0|            289.0|             67.0|    7.983384429034655|43.22710593282179| 0.843772338028053|  1.882261369447195|       18.757708130008254|        4.348672819067658|                                1825|                           59.93548387|                    4.994623655833333|\n",
      "|1048952|     3572|     5|I brought this to...| 2009-07-25|apple snicker salad| 3572|      0|          1754|1999-09-23|[15-minutes-or-le...|1540.7, 123.0, 66...|      1|['stir these into...|here is a simple ...|['yellow apples',...|            4|  1540.7|        123.0|    666.0|      13.0|       29.0|            289.0|             67.0|    7.983384429034655|43.22710593282179| 0.843772338028053|  1.882261369447195|       18.757708130008254|        4.348672819067658|                                3593|                          118.06451613|                         9.8387096775|\n",
      "+-------+---------+------+--------------------+-----------+-------------------+-----+-------+--------------+----------+--------------------+--------------------+-------+--------------------+--------------------+--------------------+-------------+--------+-------------+---------+----------+-----------+-----------------+-----------------+---------------------+-----------------+------------------+-------------------+-------------------------+-------------------------+------------------------------------+--------------------------------------+-------------------------------------+\n",
      "only showing top 5 rows\n",
      "\n"
     ]
    }
   ],
   "source": [
    "# let's look at some examples with 1 step only to see if this makes sense\n",
    "\n",
    "interaction_level_df.filter('minutes == 0 and n_steps == 1').show(5)"
   ]
  },
  {
   "cell_type": "code",
   "execution_count": 74,
   "id": "9e1ebeec-38b6-4e4f-8e72-ddd477150892",
   "metadata": {},
   "outputs": [
    {
     "name": "stdout",
     "output_type": "stream",
     "text": [
      "Condition String                   : \"minutes == 0\"\n",
      "Num Recipes Satisfying Condition   : 1094 [0.47%]\n",
      "Total Num Recipes                  : 231637\n"
     ]
    }
   ],
   "source": [
    "get_n_items_satisfying_condition(df = Interaction_level_df,\n",
    "                                 condition = 'minutes == 0',\n",
    "                                 aggregation_level = \"recipe\")"
   ]
  },
  {
   "cell_type": "code",
   "execution_count": 75,
   "id": "0303549b-f968-45b8-9a46-fbcaa7c84e1e",
   "metadata": {},
   "outputs": [],
   "source": [
    "# Remove recipes with cook time zero\n",
    "\n",
    "Interaction_level_df = Interaction_level_df.filter(\"minutes > 0\")"
   ]
  },
  {
   "cell_type": "code",
   "execution_count": 76,
   "id": "83e76060-ddfa-4835-add2-62590c943e9a",
   "metadata": {},
   "outputs": [
    {
     "name": "stdout",
     "output_type": "stream",
     "text": [
      "Added bucketized column prep_time_bucket\n",
      "\n",
      "Bucketing done for split definition: [0, 5, 15, 30, 60, 300, 900, inf]\n",
      "\n",
      "Printing summary statistics for ratings in buckets below:\n"
     ]
    },
    {
     "data": {
      "image/png": "[encoded data removed]",
      "text/plain": [
       "<Figure size 900x600 with 2 Axes>"
      ]
     },
     "metadata": {},
     "output_type": "display_data"
    }
   ],
   "source": [
    "splits = [0, 5, 15, 30, 60, 300, 900, float('Inf')]\n",
    "inputCol  = \"minutes\"\n",
    "outputCol = \"prep_time_bucket\"\n",
    "\n",
    "(Interaction_level_df, prep_time_bucketizer, prep_time_summary_pandas_df) = bucket_col_print_summary(df = Interaction_level_df,\n",
    "                                                                              splits = splits,\n",
    "                                                                              inputCol  = inputCol,\n",
    "                                                                              outputCol = outputCol)"
   ]
  },
  {
   "cell_type": "markdown",
   "id": "f8513511-3d6d-43e6-929f-f46d2f40603c",
   "metadata": {},
   "source": [
    "#### 3. n_steps\n",
    "\n",
    "1. Clearly relevant\n",
    "2. Recipes with less than 2 steps are rated high\n",
    "3. Recipes with more than 29 steps are rated very low"
   ]
  },
  {
   "cell_type": "code",
   "execution_count": 77,
   "id": "e7d5c072-bf53-4b76-a4a0-f289d69069f6",
   "metadata": {},
   "outputs": [
    {
     "data": {
      "text/plain": [
       "{0.0: 0, 0.01: 2.0, 0.25: 6.0, 0.5: 8.0, 0.75: 12.0, 0.99: 29.0, 1.0: 145}"
      ]
     },
     "execution_count": 77,
     "metadata": {},
     "output_type": "execute_result"
    }
   ],
   "source": [
    "get_quantiles(df = Interaction_level_df, col_name = \"n_steps\")"
   ]
  },
  {
   "cell_type": "code",
   "execution_count": 78,
   "id": "fbcea15d-bf91-4d00-9dd4-ff4d66180f1b",
   "metadata": {},
   "outputs": [
    {
     "name": "stdout",
     "output_type": "stream",
     "text": [
      "+-------+---------+------+----------------------------------------------------------------------------------------------------------------------------------------------------------------------------------------------------------------------------------------------------------------------------------------------------------------------------------------------------------------------------------------------------------------------------------------------------------------------------------------------------------------------------------------------------------------------------------------------------------------------------------------------------------------------------------------------------------+-----------+----------------+------+-------+--------------+----------+----------------------------------------------------------------------------------------------------------------------------------------------------------------------------------------------------------------------------------------------------------------------------------------------------------------------------------------------+---------------------------------------+-------+-----+----------------------------------------------------------------------------------------------------------------------------------------------------------------------------------------------------------------------------------------------------------+----------------------------------------------------------------------------------------------------------------------------------------------------------+-------------+--------+-------------+---------+----------+-----------+-----------------+-----------------+---------------------+-----------------+------------------+-------------------+-------------------------+-------------------------+------------------------------------+--------------------------------------+-------------------------------------+----------------+\n",
      "|user_id|recipe_id|rating|review                                                                                                                                                                                                                                                                                                                                                                                                                                                                                                                                                                                                                                                                                                    |review_date|name            |id    |minutes|contributor_id|submitted |tags                                                                                                                                                                                                                                                                                                                                          |nutrition                              |n_steps|steps|description                                                                                                                                                                                                                                               |ingredients                                                                                                                                               |n_ingredients|calories|total_fat_PDV|sugar_PDV|sodium_PDV|protein_PDV|saturated_fat_PDV|carbohydrates_PDV|total_fat_per_100_cal|sugar_per_100_cal|sodium_per_100_cal|protein_per_100_cal|saturated_fat_per_100_cal|carbohydrates_per_100_cal|days_since_submission_on_review_date|months_since_submission_on_review_date|years_since_submission_on_review_date|prep_time_bucket|\n",
      "+-------+---------+------+----------------------------------------------------------------------------------------------------------------------------------------------------------------------------------------------------------------------------------------------------------------------------------------------------------------------------------------------------------------------------------------------------------------------------------------------------------------------------------------------------------------------------------------------------------------------------------------------------------------------------------------------------------------------------------------------------------+-----------+----------------+------+-------+--------------+----------+----------------------------------------------------------------------------------------------------------------------------------------------------------------------------------------------------------------------------------------------------------------------------------------------------------------------------------------------+---------------------------------------+-------+-----+----------------------------------------------------------------------------------------------------------------------------------------------------------------------------------------------------------------------------------------------------------+----------------------------------------------------------------------------------------------------------------------------------------------------------+-------------+--------+-------------+---------+----------+-----------+-----------------+-----------------+---------------------+-----------------+------------------+-------------------+-------------------------+-------------------------+------------------------------------+--------------------------------------+-------------------------------------+----------------+\n",
      "|38218  |176767   |5     |This is a little bit different from my usual recipie (which I've lost). but it makes a lovely  fragrant loaf.  Sublime with a smear of cream cheese.  I've only tried the carrot so far  but that was such a success I can't wait to try the others.  I made as directed with rasins and walnuts.                                                                                                                                                                                                                                                                                                                                                                                                         |2006-08-26 |all season bread|176767|90     |331268        |2006-07-10|[time-to-make, course, main-ingredient, cuisine, preparation, occasion, north-american, for-large-groups, breads, fruit, vegetables, easy, fall, spring, winter, muffins, coffee-cakes, seasonal, comfort-food, inexpensive, quick-breads, tropical-fruit, bananas, carrots, taste-mood, number-of-servings, 3-steps-or-less, 4-hours-or-less]|198.8, 11.0, 70.0, 18.0, 5.0, 5.0, 10.0|0      |[]   |just change the fruit/vegetable in this recipe and make the (tender  moist  heavy dark) bread your heart desires!  try zucchini in the summer  pumpkin in the fall   carrot-raisin in the winter  & banana-walnut in the spring.     use your imagination.|['flour', 'baking soda', 'salt', 'baking powder', 'cinnamon', 'eggs', 'white sugar', 'vegetable oil', 'real vanilla', 'raw carrots', 'raisins', 'walnuts']|12           |198.8   |11.0         |70.0     |18.0      |5.0        |5.0              |10.0             |5.533199110231471    |35.21126706510936|9.054325816742407 |2.5150905046506686 |2.5150905046506686       |5.030181009301337        |47                                  |1.51612903                            |0.12634408583333334                  |4.0             |\n",
      "|233583 |176767   |4     |Made for PAC 2010  What can you say about a bread that is so versatile and readily available with ingredients on hand but YUMMO!  Made this yesterday for a snack and a healthier breakfast on the run.  I used bananas and shredded carrots and mmmm mmmm it came out very tastey.  So 1/2 disappeared before pictures could be taken but did get a shot this morning of the 1 loaf and a few muffins left over.  It came out so good I made a 2nd batch to take to the cottage for the weekend.  Quite a moist bread/muffin.  I believe I will make the zucchini variety next week as I still have some frozen from last summer harvest so out fo the freezer it comes to defrost and drain.  Thank you.|2010-04-23 |all season bread|176767|90     |331268        |2006-07-10|[time-to-make, course, main-ingredient, cuisine, preparation, occasion, north-american, for-large-groups, breads, fruit, vegetables, easy, fall, spring, winter, muffins, coffee-cakes, seasonal, comfort-food, inexpensive, quick-breads, tropical-fruit, bananas, carrots, taste-mood, number-of-servings, 3-steps-or-less, 4-hours-or-less]|198.8, 11.0, 70.0, 18.0, 5.0, 5.0, 10.0|0      |[]   |just change the fruit/vegetable in this recipe and make the (tender  moist  heavy dark) bread your heart desires!  try zucchini in the summer  pumpkin in the fall   carrot-raisin in the winter  & banana-walnut in the spring.     use your imagination.|['flour', 'baking soda', 'salt', 'baking powder', 'cinnamon', 'eggs', 'white sugar', 'vegetable oil', 'real vanilla', 'raw carrots', 'raisins', 'walnuts']|12           |198.8   |11.0         |70.0     |18.0      |5.0        |5.0              |10.0             |5.533199110231471    |35.21126706510936|9.054325816742407 |2.5150905046506686 |2.5150905046506686       |5.030181009301337        |1383                                |45.41935484                           |3.7849462366666664                   |4.0             |\n",
      "+-------+---------+------+----------------------------------------------------------------------------------------------------------------------------------------------------------------------------------------------------------------------------------------------------------------------------------------------------------------------------------------------------------------------------------------------------------------------------------------------------------------------------------------------------------------------------------------------------------------------------------------------------------------------------------------------------------------------------------------------------------+-----------+----------------+------+-------+--------------+----------+----------------------------------------------------------------------------------------------------------------------------------------------------------------------------------------------------------------------------------------------------------------------------------------------------------------------------------------------+---------------------------------------+-------+-----+----------------------------------------------------------------------------------------------------------------------------------------------------------------------------------------------------------------------------------------------------------+----------------------------------------------------------------------------------------------------------------------------------------------------------+-------------+--------+-------------+---------+----------+-----------+-----------------+-----------------+---------------------+-----------------+------------------+-------------------+-------------------------+-------------------------+------------------------------------+--------------------------------------+-------------------------------------+----------------+\n",
      "\n"
     ]
    }
   ],
   "source": [
    "Interaction_level_df.filter('n_steps == 0').show(5, truncate = False)"
   ]
  },
  {
   "cell_type": "code",
   "execution_count": 79,
   "id": "e4ae8895-ab5e-4cd0-aaa2-0ee01af39143",
   "metadata": {},
   "outputs": [
    {
     "name": "stdout",
     "output_type": "stream",
     "text": [
      "Condition String                   : \"n_steps == 0\"\n",
      "Num Recipes Satisfying Condition   : 1 [0.0%]\n",
      "Total Num Recipes                  : 230543\n"
     ]
    }
   ],
   "source": [
    "get_n_items_satisfying_condition(df = Interaction_level_df,\n",
    "                                 condition = 'n_steps == 0',aggregation_level = \"recipe\")"
   ]
  },
  {
   "cell_type": "code",
   "execution_count": 80,
   "id": "9c565864-58b2-4e31-8f66-8cb83b7b1aa9",
   "metadata": {},
   "outputs": [],
   "source": [
    "# Remove recipes with n_steps zero\n",
    "Interaction_level_df = Interaction_level_df.filter(\"n_steps > 0\")"
   ]
  },
  {
   "cell_type": "code",
   "execution_count": 81,
   "id": "48a350b5-579a-49eb-ba46-758901a36247",
   "metadata": {},
   "outputs": [
    {
     "name": "stdout",
     "output_type": "stream",
     "text": [
      "Added bucketized column n_steps_bucket\n",
      "\n",
      "Bucketing done for split definition: [0, 2, 6, 8, 12, 29, inf]\n",
      "\n",
      "Printing summary statistics for ratings in buckets below:\n"
     ]
    },
    {
     "data": {
      "image/png": "[encoded data removed]",
      "text/plain": [
       "<Figure size 800x600 with 2 Axes>"
      ]
     },
     "metadata": {},
     "output_type": "display_data"
    }
   ],
   "source": [
    "splits = [0, 2, 6, 8, 12, 29, float('Inf')]\n",
    "inputCol  = \"n_steps\"\n",
    "outputCol = \"n_steps_bucket\"\n",
    "(Interaction_level_df, n_steps_bucketizer, n_steps_pandas_df) = bucket_col_print_summary(df = Interaction_level_df,\n",
    "                                                                              splits = splits,\n",
    "                                                                              inputCol  = inputCol,\n",
    "                                                                              outputCol = outputCol)"
   ]
  },
  {
   "cell_type": "markdown",
   "id": "c2a19b44-9418-4142-8501-9f1c9e68d41e",
   "metadata": {},
   "source": [
    "#### 4. n_ingredients\n",
    "\n",
    "Not relevant"
   ]
  },
  {
   "cell_type": "code",
   "execution_count": 82,
   "id": "ca9eefa9-8b51-4795-b46c-640f8f1d4364",
   "metadata": {},
   "outputs": [
    {
     "data": {
      "text/plain": [
       "{0.0: 1, 0.01: 2.0, 0.25: 6.0, 0.5: 9.0, 0.75: 11.0, 0.99: 20.0, 1.0: 43}"
      ]
     },
     "execution_count": 82,
     "metadata": {},
     "output_type": "execute_result"
    }
   ],
   "source": [
    "get_quantiles(df = Interaction_level_df, col_name = \"n_ingredients\")"
   ]
  },
  {
   "cell_type": "code",
   "execution_count": 83,
   "id": "8149db5a-7f59-410d-8681-7c336542627c",
   "metadata": {},
   "outputs": [
    {
     "name": "stdout",
     "output_type": "stream",
     "text": [
      "Added bucketized column n_ingredients_bucket\n",
      "\n",
      "Bucketing done for split definition: [0, 6, 9, 11, inf]\n",
      "\n",
      "Printing summary statistics for ratings in buckets below:\n"
     ]
    },
    {
     "data": {
      "image/png": "[encoded data removed]",
      "text/plain": [
       "<Figure size 600x600 with 2 Axes>"
      ]
     },
     "metadata": {},
     "output_type": "display_data"
    }
   ],
   "source": [
    "splits = [0, 6, 9, 11, float('Inf')]\n",
    "inputCol  = \"n_ingredients\"\n",
    "outputCol = \"n_ingredients_bucket\"\n",
    "\n",
    "(Interaction_level_df, n_ingredients_bucketizer, n_ingredients_pandas_df) = bucket_col_print_summary(df = Interaction_level_df,\n",
    "                                                                              splits = splits,\n",
    "                                                                              inputCol  = inputCol, outputCol = outputCol)"
   ]
  },
  {
   "cell_type": "markdown",
   "id": "9dda9d8f-260b-443b-aef5-fe771257bde6",
   "metadata": {},
   "source": [
    "#### 5. nutrition columns\n",
    "\n",
    "\n",
    "\n",
    "\n",
    "\n",
    "\n",
    "\n",
    "1. calories - Calories per serving seems irrelevant\n",
    "2. fat (per 100 cal) - Calories per serving seems irrelevant\n",
    "3. sugar (per 100 cal) - Calories per serving seems irrelevant\n",
    "4. sodium (per 100 cal) - Calories per serving seems irrelevant\n",
    "5. protein (per 100 cal) - Calories per serving seems irrelevant\n",
    "6. sat. fat (per 100 cal) - Calories per serving seems irrelevant\n",
    "7. carbs (per 100 cal) - Calories per serving seems irrelevant"
   ]
  },
  {
   "cell_type": "code",
   "execution_count": 84,
   "id": "bf6ba4f2-5e2e-4e3d-9146-18b988d8b57e",
   "metadata": {},
   "outputs": [
    {
     "data": {
      "text/plain": [
       "['user_id',\n",
       " 'recipe_id',\n",
       " 'rating',\n",
       " 'review',\n",
       " 'review_date',\n",
       " 'name',\n",
       " 'id',\n",
       " 'minutes',\n",
       " 'contributor_id',\n",
       " 'submitted',\n",
       " 'tags',\n",
       " 'nutrition',\n",
       " 'n_steps',\n",
       " 'steps',\n",
       " 'description',\n",
       " 'ingredients',\n",
       " 'n_ingredients',\n",
       " 'calories',\n",
       " 'total_fat_PDV',\n",
       " 'sugar_PDV',\n",
       " 'sodium_PDV',\n",
       " 'protein_PDV',\n",
       " 'saturated_fat_PDV',\n",
       " 'carbohydrates_PDV',\n",
       " 'total_fat_per_100_cal',\n",
       " 'sugar_per_100_cal',\n",
       " 'sodium_per_100_cal',\n",
       " 'protein_per_100_cal',\n",
       " 'saturated_fat_per_100_cal',\n",
       " 'carbohydrates_per_100_cal',\n",
       " 'days_since_submission_on_review_date',\n",
       " 'months_since_submission_on_review_date',\n",
       " 'years_since_submission_on_review_date',\n",
       " 'prep_time_bucket',\n",
       " 'n_steps_bucket',\n",
       " 'n_ingredients_bucket']"
      ]
     },
     "execution_count": 84,
     "metadata": {},
     "output_type": "execute_result"
    }
   ],
   "source": [
    "Interaction_level_df.columns \n"
   ]
  },
  {
   "cell_type": "code",
   "execution_count": 85,
   "id": "902deb77-ba00-4ef5-9586-13a5b8100915",
   "metadata": {},
   "outputs": [],
   "source": [
    "nutrition_cols = ['calories', \n",
    "                  'total_fat_PDV', \n",
    "                  'sugar_PDV', \n",
    "                  'sodium_PDV', \n",
    "                  'protein_PDV', \n",
    "                  'saturated_fat_PDV', \n",
    "                  'carbohydrates_PDV', \n",
    "                  'total_fat_per_100_cal', \n",
    "                  'sugar_per_100_cal', \n",
    "                  'sodium_per_100_cal', \n",
    "                  'protein_per_100_cal', \n",
    "                  'saturated_fat_per_100_cal', \n",
    "                  'carbohydrates_per_100_cal']\n",
    "\n",
    "quantiles_list = [0.00, 0.05, 0.25, 0.5, 0.75, 0.95, 1.00]\n",
    "nutrition_col_quantiles = pd.DataFrame(index = quantiles_list)"
   ]
  },
  {
   "cell_type": "code",
   "execution_count": 86,
   "id": "cf3b6242-c0a0-439d-ac12-eab7ee484db9",
   "metadata": {},
   "outputs": [],
   "source": [
    "for col in nutrition_cols:\n",
    "    nutrition_col_quantiles[col] = (get_quantiles(df = Interaction_level_df,\n",
    "                                                col_name = col,\n",
    "                                                quantiles_list=quantiles_list)\n",
    "                                  .values())"
   ]
  },
  {
   "cell_type": "code",
   "execution_count": 88,
   "id": "54312e5c-03b5-4571-aefc-74a9a52e68ef",
   "metadata": {},
   "outputs": [],
   "source": [
    "nutrition_col_quantile_summary = pd.DataFrame(index = [\"0.00-0.25\", \"0.25-0.50\", \"0.50-0.75\", \"0.75-0.95\", \"0.95 - 1.00\"])\n",
    "\n",
    "for col in nutrition_cols:\n",
    "    splits = ([0]\n",
    "            + list(nutrition_col_quantiles.loc[[0.25, 0.5, 0.75, 0.95], col].round())\n",
    "            + [float('Inf')])\n",
    "    inputCol  = col\n",
    "    outputCol = col+\"_bucket\"\n",
    "\n",
    "    if outputCol in interaction_level_df.columns:\n",
    "        interaction_level_df = interaction_level_df.drop(outputCol)\n",
    "\n",
    "  # Training bucketizer\n",
    "    bucketizer = Bucketizer(splits = splits,\n",
    "                          inputCol  = inputCol,\n",
    "                          outputCol = outputCol)\n",
    "  \n",
    "    interaction_level_df = bucketizer.setHandleInvalid(\"keep\").transform(interaction_level_df)\n",
    "  \n",
    "    nutrition_col_quantile_summary.loc[:, col] = (interaction_level_df\n",
    "                                                .groupBy(outputCol)\n",
    "                                                .agg(F.avg('rating').alias('avg_rating'))\n",
    "                                                .sort(outputCol)\n",
    "                                                .select('avg_rating').toPandas().values)"
   ]
  },
  {
   "cell_type": "code",
   "execution_count": 90,
   "id": "0f90631e-0e49-45c9-a3c9-cb89cede0d58",
   "metadata": {},
   "outputs": [],
   "source": [
    "# set the max columns to none\n",
    "pd.set_option('display.max_columns', None)"
   ]
  },
  {
   "cell_type": "code",
   "execution_count": 91,
   "id": "58d3d518-18de-41e9-a1f7-21fd3522ccea",
   "metadata": {},
   "outputs": [
    {
     "data": {
      "text/html": [
       "<div>\n",
       "<style scoped>\n",
       "    .dataframe tbody tr th:only-of-type {\n",
       "        vertical-align: middle;\n",
       "    }\n",
       "\n",
       "    .dataframe tbody tr th {\n",
       "        vertical-align: top;\n",
       "    }\n",
       "\n",
       "    .dataframe thead th {\n",
       "        text-align: right;\n",
       "    }\n",
       "</style>\n",
       "<table border=\"1\" class=\"dataframe\">\n",
       "  <thead>\n",
       "    <tr style=\"text-align: right;\">\n",
       "      <th></th>\n",
       "      <th>calories</th>\n",
       "      <th>total_fat_PDV</th>\n",
       "      <th>sugar_PDV</th>\n",
       "      <th>sodium_PDV</th>\n",
       "      <th>protein_PDV</th>\n",
       "    </tr>\n",
       "  </thead>\n",
       "  <tbody>\n",
       "    <tr>\n",
       "      <th>0.00-0.25</th>\n",
       "      <td>4.416199</td>\n",
       "      <td>4.393521</td>\n",
       "      <td>4.416395</td>\n",
       "      <td>4.423891</td>\n",
       "      <td>4.422676</td>\n",
       "    </tr>\n",
       "    <tr>\n",
       "      <th>0.25-0.50</th>\n",
       "      <td>4.428172</td>\n",
       "      <td>4.420993</td>\n",
       "      <td>4.434607</td>\n",
       "      <td>4.408542</td>\n",
       "      <td>4.419295</td>\n",
       "    </tr>\n",
       "    <tr>\n",
       "      <th>0.50-0.75</th>\n",
       "      <td>4.418460</td>\n",
       "      <td>4.427685</td>\n",
       "      <td>4.402974</td>\n",
       "      <td>4.422323</td>\n",
       "      <td>4.410519</td>\n",
       "    </tr>\n",
       "    <tr>\n",
       "      <th>0.75-0.95</th>\n",
       "      <td>4.393675</td>\n",
       "      <td>4.411923</td>\n",
       "      <td>4.406989</td>\n",
       "      <td>4.397182</td>\n",
       "      <td>4.399871</td>\n",
       "    </tr>\n",
       "    <tr>\n",
       "      <th>0.95 - 1.00</th>\n",
       "      <td>4.341801</td>\n",
       "      <td>4.371065</td>\n",
       "      <td>4.332856</td>\n",
       "      <td>4.373175</td>\n",
       "      <td>4.372622</td>\n",
       "    </tr>\n",
       "  </tbody>\n",
       "</table>\n",
       "</div>"
      ],
      "text/plain": [
       "             calories  total_fat_PDV  sugar_PDV  sodium_PDV  protein_PDV\n",
       "0.00-0.25    4.416199       4.393521   4.416395    4.423891     4.422676\n",
       "0.25-0.50    4.428172       4.420993   4.434607    4.408542     4.419295\n",
       "0.50-0.75    4.418460       4.427685   4.402974    4.422323     4.410519\n",
       "0.75-0.95    4.393675       4.411923   4.406989    4.397182     4.399871\n",
       "0.95 - 1.00  4.341801       4.371065   4.332856    4.373175     4.372622"
      ]
     },
     "execution_count": 91,
     "metadata": {},
     "output_type": "execute_result"
    }
   ],
   "source": [
    "nutrition_col_quantile_summary"
   ]
  },
  {
   "cell_type": "code",
   "execution_count": null,
   "id": "56d70d3b-e034-4f06-9ac4-9b7b13ead5f1",
   "metadata": {},
   "outputs": [],
   "source": []
  },
  {
   "cell_type": "code",
   "execution_count": null,
   "id": "9781c057-0f4d-40ac-a96d-c6f655888e10",
   "metadata": {},
   "outputs": [],
   "source": []
  },
  {
   "cell_type": "markdown",
   "id": "faf001db-2626-4f4b-a338-095a644982aa",
   "metadata": {},
   "source": [
    "# Feature Extraction Part 02"
   ]
  },
  {
   "cell_type": "markdown",
   "id": "5d9ea565-f485-4f96-95c1-71fc5bbc95fd",
   "metadata": {},
   "source": [
    "## Read The Data"
   ]
  },
  {
   "cell_type": "code",
   "execution_count": 93,
   "id": "26d44449-85bb-423c-94b0-ec30c90db97f",
   "metadata": {},
   "outputs": [],
   "source": [
    "def add_OHE_columns (df, n_name_list):\n",
    "    \"\"\"\n",
    "    Given a list of tags, creates one hot encoded columns for each tag. \n",
    "  \n",
    "    Input\n",
    "    Argument 1: Dataframe in which the function will add the new columns\n",
    "    Argument 2: list of tags\n",
    "  \n",
    "    Output\n",
    "    Prints the names of columns that have been added \n",
    "    Returns the modified dataframe \n",
    "    \"\"\"\n",
    "    for name in n_name_list:\n",
    "        df = (df.withColumn(\"has_tag_\"+name, F.when(F.array_contains(df.tags, name), 1).otherwise(0)))\n",
    "        print (\"added column: has_tag_\"+name)\n",
    "\n",
    "    return df"
   ]
  },
  {
   "cell_type": "markdown",
   "id": "64bbab5b-a475-4068-aa1f-53c037bd860e",
   "metadata": {},
   "source": [
    "### Adding user level average features"
   ]
  },
  {
   "cell_type": "code",
   "execution_count": 94,
   "id": "59624ce3-5ce9-4e38-bca5-16af1929970a",
   "metadata": {},
   "outputs": [],
   "source": [
    "partition = Window.partitionBy(\"user_id\")\n",
    "\n",
    "Interaction_level_df = (Interaction_level_df\n",
    "                        .withColumn(\"user_avg_rating\",\n",
    "                                    F.avg(F.col(\"rating\")).over(partition))\n",
    "                        .withColumn(\"user_n_ratings\",\n",
    "                                    F.count(F.col(\"rating\")).over(partition))\n",
    "                        .withColumn(\"user_avg_years_betwn_review_and_submission\",\n",
    "                                    F.avg(F.col(\"years_since_submission_on_review_date\")).over(partition))\n",
    "                        .withColumn(\"user_avg_prep_time_recipes_reviewed\",\n",
    "                                    F.avg(F.col(\"minutes\")).over(partition))\n",
    "                        .withColumn(\"user_avg_n_steps_recipes_reviewed\",\n",
    "                                    F.avg(F.col(\"n_steps\")).over(partition))\n",
    "                        .withColumn(\"user_avg_n_ingredients_recipes_reviewed\",\n",
    "                                    F.avg(F.col(\"n_ingredients\")).over(partition)))"
   ]
  },
  {
   "cell_type": "code",
   "execution_count": 95,
   "id": "340634da-70fd-4898-810d-876815749a7c",
   "metadata": {},
   "outputs": [],
   "source": [
    "nutrition_cols = ['calories',\n",
    "                  'total_fat_per_100_cal',\n",
    "                  'sugar_per_100_cal',\n",
    "                  'sodium_per_100_cal',\n",
    "                  'protein_per_100_cal',\n",
    "                  'saturated_fat_per_100_cal',\n",
    "                  'carbohydrates_per_100_cal']\n",
    "\n",
    "for nutri_col in nutrition_cols:\n",
    "    Interaction_level_df = (Interaction_level_df\n",
    "                            .withColumn(\"user_avg_{}_recipes_reviewed\".format(nutri_col),\n",
    "                                        F.avg(F.col(nutri_col)).over(partition)))"
   ]
  },
  {
   "cell_type": "code",
   "execution_count": 96,
   "id": "0e342b56-2176-4f93-a4b6-20717ea5ff82",
   "metadata": {},
   "outputs": [],
   "source": [
    "# Code check cell\n",
    "# Do not edit cells with assert commands\n",
    "# If an error is shown after running this cell, please recheck your code. \n",
    "\n",
    "assert(round(Interaction_level_df.filter('user_id == 601529').select('user_avg_rating').first()[0], 2) == 4.22)\n",
    "assert(Interaction_level_df.filter('user_id == 601529').select('user_n_ratings').first()[0] == 27)\n",
    "assert(round(Interaction_level_df.filter('user_id == 601529').select('user_avg_years_betwn_review_and_submission').first()[0], 2) == 3.51)\n",
    "assert(Interaction_level_df.filter('user_id == 233044').select('user_avg_prep_time_recipes_reviewed').first()[0] == 50.3)\n",
    "assert(Interaction_level_df.filter('user_id == 233044').select('user_avg_n_steps_recipes_reviewed').first()[0] == 8.8)\n",
    "assert(Interaction_level_df.filter('user_id == 233044').select('user_avg_n_ingredients_recipes_reviewed').first()[0] == 8.2)\n",
    "assert(round(Interaction_level_df.filter('user_id == 233044').select('user_avg_total_fat_per_100_cal_recipes_reviewed').first()[0]) == 6)"
   ]
  },
  {
   "cell_type": "markdown",
   "id": "333fc8a0-13cf-45c8-b7fd-e72aa157d39f",
   "metadata": {},
   "source": [
    "#### More Features:\n",
    "\n",
    "1. high_ratings = 5 rating\n",
    "\n",
    "2. user_avg_years_betwn_review_and_submission_high_ratings\n",
    "3. user_avg_prep_time_recipes_reviewed_high_ratings\n",
    "4. user_avg_n_steps_recipes_reviewed_high_ratings\n",
    "5. user_avg_n_ingredients_recipes_reviewed_high_ratings"
   ]
  },
  {
   "cell_type": "code",
   "execution_count": 97,
   "id": "bf0fc628-33f1-4ee4-a0fb-4235339ccbcd",
   "metadata": {},
   "outputs": [],
   "source": [
    "Interaction_level_df = (Interaction_level_df\n",
    "                        .withColumn(\"ind_5_rating\",\n",
    "                                    F.when(interaction_level_df[\"rating\"] != 5, None)\n",
    "                                     .otherwise(1))\n",
    "                        .withColumn(\"years_since_submission_on_review_date_5_ratings\",\n",
    "                                    F.when(interaction_level_df[\"rating\"] != 5, None)\n",
    "                                     .otherwise(F.col(\"years_since_submission_on_review_date\")))\n",
    "                        .withColumn(\"minutes_5_ratings\",\n",
    "                                    F.when(interaction_level_df[\"rating\"] != 5, None)\n",
    "                                     .otherwise(F.col(\"minutes\")))\n",
    "                        .withColumn(\"n_steps_5_ratings\",\n",
    "                                    F.when(interaction_level_df[\"rating\"] != 5, None)\n",
    "                                     .otherwise(F.col(\"n_steps\")))\n",
    "                        .withColumn(\"n_ingredients_5_ratings\",\n",
    "                                    F.when(interaction_level_df[\"rating\"] != 5, None)\n",
    "                                     .otherwise(F.col(\"n_ingredients\"))))"
   ]
  },
  {
   "cell_type": "code",
   "execution_count": 98,
   "id": "ccc870a2-890f-45f5-813f-a8c7078aa0a5",
   "metadata": {},
   "outputs": [],
   "source": [
    "nutrition_cols = ['calories',\n",
    "                  'total_fat_per_100_cal',\n",
    "                  'sugar_per_100_cal',\n",
    "                  'sodium_per_100_cal',\n",
    "                  'protein_per_100_cal',\n",
    "                  'saturated_fat_per_100_cal',\n",
    "                  'carbohydrates_per_100_cal']\n",
    "\n",
    "for nutri_col in nutrition_cols:\n",
    "    Interaction_level_df = (Interaction_level_df\n",
    "                            .withColumn(\"user_avg_{}_recipes_reviewed\".format(nutri_col),\n",
    "                                        F.avg(F.col(nutri_col)).over(partition)))"
   ]
  },
  {
   "cell_type": "code",
   "execution_count": 99,
   "id": "9d5139c4-48a6-4105-9f2b-5f0a59673133",
   "metadata": {},
   "outputs": [],
   "source": [
    "# Code check cell\n",
    "# Do not edit cells with assert commands\n",
    "# If an error is shown after running this cell, please recheck your code. \n",
    "\n",
    "assert(round(Interaction_level_df.filter('user_id == 601529').select('user_avg_rating').first()[0], 2) == 4.22)\n",
    "assert(Interaction_level_df.filter('user_id == 601529').select('user_n_ratings').first()[0] == 27)\n",
    "assert(round(Interaction_level_df.filter('user_id == 601529').select('user_avg_years_betwn_review_and_submission').first()[0], 2) == 3.51)\n",
    "assert(Interaction_level_df.filter('user_id == 233044').select('user_avg_prep_time_recipes_reviewed').first()[0] == 50.3)\n",
    "assert(Interaction_level_df.filter('user_id == 233044').select('user_avg_n_steps_recipes_reviewed').first()[0] == 8.8)\n",
    "assert(Interaction_level_df.filter('user_id == 233044').select('user_avg_n_ingredients_recipes_reviewed').first()[0] == 8.2)\n",
    "assert(round(Interaction_level_df.filter('user_id == 233044').select('user_avg_total_fat_per_100_cal_recipes_reviewed').first()[0]) == 6)"
   ]
  },
  {
   "cell_type": "markdown",
   "id": "968cb5ac-a312-410e-aa32-44dde9a08cdc",
   "metadata": {},
   "source": [
    "#### More Features:\n",
    "\n",
    "1. high_ratings = 5 rating\n",
    "\n",
    "2. user_avg_years_betwn_review_and_submission_high_ratings\n",
    "3. user_avg_prep_time_recipes_reviewed_high_ratings\n",
    "4. user_avg_n_steps_recipes_reviewed_high_ratings\n",
    "5. user_avg_n_ingredients_recipes_reviewed_high_ratings"
   ]
  },
  {
   "cell_type": "code",
   "execution_count": 100,
   "id": "1f4d133c-ccfd-4f9a-b269-005fd8975044",
   "metadata": {},
   "outputs": [],
   "source": [
    "Interaction_level_df = (Interaction_level_df\n",
    "                        .withColumn(\"ind_5_rating\",\n",
    "                                    F.when(Interaction_level_df[\"rating\"] != 5, None)\n",
    "                                     .otherwise(1))\n",
    "                        .withColumn(\"years_since_submission_on_review_date_5_ratings\",\n",
    "                                    F.when(Interaction_level_df[\"rating\"] != 5, None)\n",
    "                                     .otherwise(F.col(\"years_since_submission_on_review_date\")))\n",
    "                        .withColumn(\"minutes_5_ratings\",\n",
    "                                    F.when(Interaction_level_df[\"rating\"] != 5, None)\n",
    "                                     .otherwise(F.col(\"minutes\")))\n",
    "                        .withColumn(\"n_steps_5_ratings\",\n",
    "                                    F.when(Interaction_level_df[\"rating\"] != 5, None)\n",
    "                                     .otherwise(F.col(\"n_steps\")))\n",
    "                        .withColumn(\"n_ingredients_5_ratings\",\n",
    "                                    F.when(Interaction_level_df[\"rating\"] != 5, None)\n",
    "                                     .otherwise(F.col(\"n_ingredients\"))))"
   ]
  },
  {
   "cell_type": "code",
   "execution_count": 101,
   "id": "d99b79e7-d53d-4f2d-afad-ed3a56038381",
   "metadata": {},
   "outputs": [],
   "source": [
    "partition = Window.partitionBy(\"user_id\")\n",
    "\n",
    "Interaction_level_df = (Interaction_level_df\n",
    "                        .withColumn(\"user_n_5_ratings\",\n",
    "                                    F.sum(F.col(\"ind_5_rating\")).over(partition))\n",
    "                        .withColumn(\"user_avg_years_betwn_review_and_submission_5_ratings\",\n",
    "                                    F.avg(F.col(\"years_since_submission_on_review_date_5_ratings\")).over(partition))\n",
    "                        .withColumn(\"user_avg_prep_time_recipes_reviewed_5_ratings\",\n",
    "                                    F.avg(F.col(\"minutes_5_ratings\")).over(partition))\n",
    "                        .withColumn(\"user_avg_n_steps_recipes_reviewed_5_ratings\",\n",
    "                                    F.avg(F.col(\"n_steps_5_ratings\")).over(partition))\n",
    "                        .withColumn(\"user_avg_n_ingredients_recipes_reviewed_5_ratings\",\n",
    "                                    F.avg(F.col(\"n_ingredients_5_ratings\")).over(partition)))"
   ]
  },
  {
   "cell_type": "code",
   "execution_count": 102,
   "id": "330ea1bf-4536-4cfd-a63f-17b7140b792c",
   "metadata": {},
   "outputs": [],
   "source": [
    "for nutri_col in nutrition_cols:\n",
    "    Interaction_level_df = (Interaction_level_df\n",
    "                            .withColumn(\"{}_5_ratings\".format(nutri_col),\n",
    "                                        F.when(Interaction_level_df[\"rating\"] != 5, None)\n",
    "                                         .otherwise(F.col(nutri_col))))\n",
    "    Interaction_level_df = (Interaction_level_df\n",
    "                            .withColumn(\"user_avg_{}_recipes_reviewed_5_ratings\".format(nutri_col),\n",
    "                                        F.avg(F.col(\"{}_5_ratings\".format(nutri_col))).over(partition)))"
   ]
  },
  {
   "cell_type": "code",
   "execution_count": 103,
   "id": "cfbfcdf4-bc93-42e6-aa7e-133c1c34fd48",
   "metadata": {},
   "outputs": [],
   "source": [
    "# Check - All rows with ratings should have non-null values in corresponding user_avg_5_ratings columns\n",
    "\n",
    "assert(Interaction_level_df\n",
    "       .filter(\"rating == 5\")\n",
    "       .filter(Interaction_level_df.user_n_5_ratings.isNull() |\n",
    "               Interaction_level_df.user_avg_years_betwn_review_and_submission_5_ratings.isNull() |\n",
    "               Interaction_level_df.user_avg_prep_time_recipes_reviewed_5_ratings.isNull() |\n",
    "               Interaction_level_df.user_avg_n_steps_recipes_reviewed_5_ratings.isNull() |\n",
    "               Interaction_level_df.user_avg_n_ingredients_recipes_reviewed_5_ratings.isNull())\n",
    "       .count() == 0)"
   ]
  },
  {
   "cell_type": "code",
   "execution_count": 104,
   "id": "566e0a89-2414-4916-864c-99e47fd8d9e1",
   "metadata": {},
   "outputs": [],
   "source": [
    "# Check values for a given user id\n",
    "\n",
    "assert(Interaction_level_df.filter('user_id == 233044').select('user_n_5_ratings').first()[0] == 7)\n",
    "assert(round(Interaction_level_df.filter('user_id == 233044').select('user_avg_years_betwn_review_and_submission_5_ratings').first()[0], 2) == 2.24)\n",
    "assert(round(Interaction_level_df.filter('user_id == 233044').select('user_avg_prep_time_recipes_reviewed_5_ratings').first()[0]) == 46)\n",
    "assert(round(Interaction_level_df.filter('user_id == 233044').select('user_avg_n_steps_recipes_reviewed_5_ratings').first()[0], 2) == 7.29)\n",
    "assert(round(Interaction_level_df.filter('user_id == 233044').select('user_avg_n_ingredients_recipes_reviewed_5_ratings').first()[0], 2) == 6.86)"
   ]
  },
  {
   "cell_type": "code",
   "execution_count": 105,
   "id": "b0c9ad71-4bff-42dc-a17f-e2121608c729",
   "metadata": {},
   "outputs": [
    {
     "name": "stdout",
     "output_type": "stream",
     "text": [
      "root\n",
      " |-- user_id: integer (nullable = true)\n",
      " |-- recipe_id: integer (nullable = true)\n",
      " |-- rating: integer (nullable = true)\n",
      " |-- review: string (nullable = true)\n",
      " |-- review_date: date (nullable = true)\n",
      " |-- name: string (nullable = true)\n",
      " |-- id: integer (nullable = true)\n",
      " |-- minutes: integer (nullable = true)\n",
      " |-- contributor_id: integer (nullable = true)\n",
      " |-- submitted: date (nullable = true)\n",
      " |-- tags: array (nullable = true)\n",
      " |    |-- element: string (containsNull = false)\n",
      " |-- nutrition: string (nullable = true)\n",
      " |-- n_steps: integer (nullable = true)\n",
      " |-- steps: string (nullable = true)\n",
      " |-- description: string (nullable = true)\n",
      " |-- ingredients: string (nullable = true)\n",
      " |-- n_ingredients: integer (nullable = true)\n",
      " |-- calories: float (nullable = true)\n",
      " |-- total_fat_PDV: float (nullable = true)\n",
      " |-- sugar_PDV: float (nullable = true)\n",
      " |-- sodium_PDV: float (nullable = true)\n",
      " |-- protein_PDV: float (nullable = true)\n",
      " |-- saturated_fat_PDV: float (nullable = true)\n",
      " |-- carbohydrates_PDV: float (nullable = true)\n",
      " |-- total_fat_per_100_cal: double (nullable = true)\n",
      " |-- sugar_per_100_cal: double (nullable = true)\n",
      " |-- sodium_per_100_cal: double (nullable = true)\n",
      " |-- protein_per_100_cal: double (nullable = true)\n",
      " |-- saturated_fat_per_100_cal: double (nullable = true)\n",
      " |-- carbohydrates_per_100_cal: double (nullable = true)\n",
      " |-- days_since_submission_on_review_date: integer (nullable = true)\n",
      " |-- months_since_submission_on_review_date: double (nullable = true)\n",
      " |-- years_since_submission_on_review_date: double (nullable = true)\n",
      " |-- calories_bucket: double (nullable = true)\n",
      " |-- total_fat_PDV_bucket: double (nullable = true)\n",
      " |-- sugar_PDV_bucket: double (nullable = true)\n",
      " |-- sodium_PDV_bucket: double (nullable = true)\n",
      " |-- protein_PDV_bucket: double (nullable = true)\n",
      " |-- saturated_fat_PDV_bucket: double (nullable = true)\n",
      " |-- carbohydrates_PDV_bucket: double (nullable = true)\n",
      " |-- total_fat_per_100_cal_bucket: double (nullable = true)\n",
      "\n"
     ]
    }
   ],
   "source": [
    "interaction_level_df.printSchema()"
   ]
  },
  {
   "cell_type": "code",
   "execution_count": null,
   "id": "aa875955-f31e-4a22-ae75-dbf904e212d5",
   "metadata": {},
   "outputs": [],
   "source": []
  },
  {
   "cell_type": "markdown",
   "id": "95aee9b9-4836-42c8-8814-90a2fb60574d",
   "metadata": {},
   "source": [
    "## Tags level EDA"
   ]
  },
  {
   "cell_type": "code",
   "execution_count": 106,
   "id": "8cfeed52-b7b4-4fba-aabc-d25859749118",
   "metadata": {},
   "outputs": [],
   "source": [
    "Interaction_tag_level_df = interaction_level_df.withColumn('individual_tag',F.explode('tags'))"
   ]
  },
  {
   "cell_type": "code",
   "execution_count": 107,
   "id": "520a5d2f-ea8c-4c5c-942c-86a183a1aac0",
   "metadata": {},
   "outputs": [],
   "source": [
    "tags_ratings_summary = (Interaction_tag_level_df\n",
    "                        .groupBy('individual_tag').agg(F.avg('rating').alias('avg_user_rating'),\n",
    "                                                    #  F.max('rating').alias('max_user_rating'),\n",
    "                                                    #  F.min('rating').alias('min_user_rating'),\n",
    "                                                       F.count('rating').alias('n_user_ratings'),\n",
    "                                                       F.countDistinct('id').alias('n_recipes')))"
   ]
  },
  {
   "cell_type": "code",
   "execution_count": 108,
   "id": "056432ec-c13b-4f3c-ba81-038bf7ae098d",
   "metadata": {},
   "outputs": [],
   "source": [
    "Interactions, recipes  =  Interaction_level_df.count(), Interaction_level_df.agg(F.countDistinct('id')).first()[0]\n",
    "\n",
    "tags_ratings_summary = (tags_ratings_summary.withColumn(\"in_percent_recipies\", F.col (\"n_recipes\")/F.lit(recipes))\n",
    "                                            .withColumn(\"in_percent_interactions\", F.col (\"n_user_ratings\")/F.lit(Interactions)))"
   ]
  },
  {
   "cell_type": "markdown",
   "id": "5a5028e7-4c1d-45c4-9e55-e95fac021750",
   "metadata": {},
   "source": [
    "### 1. Top n most rated tags"
   ]
  },
  {
   "cell_type": "code",
   "execution_count": 109,
   "id": "57a67a17-4919-4616-9011-be6023e9c432",
   "metadata": {},
   "outputs": [
    {
     "name": "stdout",
     "output_type": "stream",
     "text": [
      "+------------------+------------------+--------------+---------+-------------------+-----------------------+\n",
      "|    individual_tag|   avg_user_rating|n_user_ratings|n_recipes|in_percent_recipies|in_percent_interactions|\n",
      "+------------------+------------------+--------------+---------+-------------------+-----------------------+\n",
      "|       preparation| 4.411354948648275|       1129076|   230546| 1.0000173504177112|     1.0010834735701606|\n",
      "|      time-to-make|4.4138409064517266|       1110881|   225326| 0.9773750553044565|     0.9849510663614263|\n",
      "|            course| 4.411947223592061|       1076769|   218148| 0.9462397307215171|     0.9547060169135366|\n",
      "|           dietary| 4.411331005472605|        906698|   165091| 0.7160994525943212|     0.8039143364300698|\n",
      "|   main-ingredient| 4.423460446350231|        868466|   170446| 0.7393273243053327|     0.7700163319011148|\n",
      "|              easy|  4.41807043683746|        632226|   126062| 0.5468070893806768|     0.5605565968644878|\n",
      "|          occasion|  4.41390652993341|        622916|   114145| 0.4951158574142672|     0.5523019823487791|\n",
      "|         equipment| 4.414997188352374|        499707|    70436| 0.3055235054783944|    0.44306000599368356|\n",
      "|           cuisine| 4.416292206025025|        481359|    91165|  0.395437707662812|     0.4267919429287833|\n",
      "|  low-in-something|4.4141343197390395|        448497|    85776|0.37206235740125443|     0.3976551929593724|\n",
      "|         main-dish| 4.395603853828529|        385383|    71786| 0.3113792714559603|    0.34169582233161383|\n",
      "|60-minutes-or-less| 4.405608852652683|        343671|    69990| 0.3035889339035837|    0.30471231205457444|\n",
      "|number-of-servings| 4.406268866680343|        341210|    58949|0.25569744341595024|     0.3025302920413458|\n",
      "|              meat|4.4078258997788184|        320551|    56042| 0.2430880273442583|     0.2842132049006343|\n",
      "|        taste-mood| 4.412528439448443|        311627|    52143| 0.2261757076801624|     0.2763008332638799|\n",
      "|    north-american| 4.412832602505994|        284837|    48479|0.21028272505660575|     0.2525477588411266|\n",
      "|30-minutes-or-less| 4.426849710766375|        267258|    55077|0.23890223907140565|     0.2369615216153864|\n",
      "|        vegetables| 4.454102520853779|        260864|    53814|0.23342384467906066|    0.23129234812307267|\n",
      "|              oven| 4.417068897708177|        251721|    31180| 0.1352465060596334|    0.22318580241768882|\n",
      "|   4-hours-or-less| 4.383291661130505|        248367|    49497| 0.2146984063641332|    0.22021201325703504|\n",
      "+------------------+------------------+--------------+---------+-------------------+-----------------------+\n",
      "only showing top 20 rows\n",
      "\n"
     ]
    }
   ],
   "source": [
    "tags_ratings_summary.sort(F.col(\"n_user_ratings\").desc()).show(20)"
   ]
  },
  {
   "cell_type": "code",
   "execution_count": 110,
   "id": "f68c53ef-a13b-4e8d-a1d4-dda0750417ed",
   "metadata": {},
   "outputs": [],
   "source": [
    "tags_ratings_summary = tags_ratings_summary.filter(tags_ratings_summary.in_percent_interactions < 0.75)"
   ]
  },
  {
   "cell_type": "code",
   "execution_count": 111,
   "id": "99092e81-eb2f-4ea7-bb69-92806d2c50ec",
   "metadata": {},
   "outputs": [],
   "source": [
    "top_most_frequent_tags = tags_ratings_summary.sort(F.col(\"n_user_ratings\").desc())"
   ]
  },
  {
   "cell_type": "code",
   "execution_count": 112,
   "id": "01367bbf-1ea6-41e4-a471-d4b77198ea15",
   "metadata": {},
   "outputs": [
    {
     "data": {
      "text/plain": [
       "{0.0: 8.86639582782878e-07,\n",
       " 0.01: 8.86639582782878e-07,\n",
       " 0.25: 0.00035908903102706556,\n",
       " 0.5: 0.003421542149959126,\n",
       " 0.75: 0.019063637669414657,\n",
       " 0.8: 0.02747784731002417,\n",
       " 0.85: 0.04430183339332928,\n",
       " 0.9: 0.08095640038515624,\n",
       " 0.95: 0.16427924181675996,\n",
       " 0.99: 0.34169582233161383,\n",
       " 1.0: 0.5605565968644878}"
      ]
     },
     "execution_count": 112,
     "metadata": {},
     "output_type": "execute_result"
    }
   ],
   "source": [
    "get_quantiles(df = top_most_frequent_tags , \n",
    "              col_name = 'in_percent_interactions', \n",
    "              quantiles_list = [0.01,0.25,0.5, 0.75,0.8,0.85,0.9,0.95, 0.99])"
   ]
  },
  {
   "cell_type": "code",
   "execution_count": 113,
   "id": "029bc23d-5987-49f5-8f39-6d895edcac5b",
   "metadata": {},
   "outputs": [
    {
     "data": {
      "text/plain": [
       "29"
      ]
     },
     "execution_count": 113,
     "metadata": {},
     "output_type": "execute_result"
    }
   ],
   "source": [
    "# keep tags appearing in the top 5 percentile \n",
    "top_most_frequent_tags = top_most_frequent_tags.filter(\"in_percent_interactions > 0.16\")\n",
    "\n",
    "top_most_frequent_tags.count()"
   ]
  },
  {
   "cell_type": "code",
   "execution_count": 114,
   "id": "cf37cc95-1c73-49b1-ada1-1f21d4887939",
   "metadata": {},
   "outputs": [],
   "source": [
    "top_frequent_tags_list = [data[0] for data in top_most_frequent_tags.select('individual_tag').collect()]"
   ]
  },
  {
   "cell_type": "code",
   "execution_count": 115,
   "id": "2f64a011-151e-4638-a3d3-b0b6a68de04b",
   "metadata": {},
   "outputs": [
    {
     "name": "stdout",
     "output_type": "stream",
     "text": [
      "added column: has_tag_easy\n",
      "added column: has_tag_occasion\n",
      "added column: has_tag_equipment\n",
      "added column: has_tag_cuisine\n",
      "added column: has_tag_low-in-something\n",
      "added column: has_tag_main-dish\n",
      "added column: has_tag_60-minutes-or-less\n",
      "added column: has_tag_number-of-servings\n",
      "added column: has_tag_meat\n",
      "added column: has_tag_taste-mood\n",
      "added column: has_tag_north-american\n",
      "added column: has_tag_30-minutes-or-less\n",
      "added column: has_tag_vegetables\n",
      "added column: has_tag_oven\n",
      "added column: has_tag_4-hours-or-less\n",
      "added column: has_tag_low-carb\n",
      "added column: has_tag_holiday-event\n",
      "added column: has_tag_desserts\n",
      "added column: has_tag_healthy\n",
      "added column: has_tag_15-minutes-or-less\n",
      "added column: has_tag_dinner-party\n",
      "added column: has_tag_low-sodium\n",
      "added column: has_tag_american\n",
      "added column: has_tag_beginner-cook\n",
      "added column: has_tag_low-cholesterol\n",
      "added column: has_tag_low-calorie\n",
      "added column: has_tag_inexpensive\n",
      "added column: has_tag_comfort-food\n",
      "added column: has_tag_kid-friendly\n"
     ]
    }
   ],
   "source": [
    "Interaction_level_df = add_OHE_columns (Interaction_level_df, top_frequent_tags_list)"
   ]
  },
  {
   "cell_type": "markdown",
   "id": "b7c52936-11c4-48e1-abf4-5767e3f3d41f",
   "metadata": {},
   "source": [
    "### 2. Bottom n least rated tags"
   ]
  },
  {
   "cell_type": "code",
   "execution_count": 116,
   "id": "dcd9403d-8311-4758-9c6c-f6e52d6f022d",
   "metadata": {},
   "outputs": [
    {
     "name": "stdout",
     "output_type": "stream",
     "text": [
      "+--------------------+---------------+--------------+---------+-------------------+-----------------------+\n",
      "|      individual_tag|avg_user_rating|n_user_ratings|n_recipes|in_percent_recipies|in_percent_interactions|\n",
      "+--------------------+---------------+--------------+---------+-------------------+-----------------------+\n",
      "|             cabbage|            5.0|             1|        1| 4.3376044278266E-6|    8.86639582782878E-7|\n",
      "|   chicken-crock-pot|            4.0|             1|        1| 4.3376044278266E-6|    8.86639582782878E-7|\n",
      "|       chicken-stews|            4.0|             1|        1| 4.3376044278266E-6|    8.86639582782878E-7|\n",
      "|        chicken-stew|            4.0|             1|        1| 4.3376044278266E-6|    8.86639582782878E-7|\n",
      "|irish-st-patricks...|            5.0|             1|        1| 4.3376044278266E-6|    8.86639582782878E-7|\n",
      "+--------------------+---------------+--------------+---------+-------------------+-----------------------+\n",
      "only showing top 5 rows\n",
      "\n"
     ]
    }
   ],
   "source": [
    "tags_ratings_summary.sort(F.col(\"n_user_ratings\").asc()).show(5)"
   ]
  },
  {
   "cell_type": "markdown",
   "id": "4fb1b93a-57f8-4bc9-90f6-02e38f10e4da",
   "metadata": {},
   "source": [
    " The above tags are present in 1 recipe in over two hundred thousand. The features we create based on these tags will not teach the model new information. If these tags were one hot encoded, the entire column would be filled with zeros, and only a few rows will have 1s. One hot encoding of these tags is not a good idea. If you come up with an encoding that captures the rarity of these tags, only then can you add these tags to the analysis."
   ]
  },
  {
   "cell_type": "markdown",
   "id": "747fb1dc-fc57-4f62-bcee-17a0046a3936",
   "metadata": {},
   "source": [
    "### 3. Top n rated tags"
   ]
  },
  {
   "cell_type": "code",
   "execution_count": 117,
   "id": "0d0dcbf4-2ab2-4660-96ac-01819dc2b5a3",
   "metadata": {},
   "outputs": [
    {
     "name": "stdout",
     "output_type": "stream",
     "text": [
      "+--------------------+---------------+--------------+---------+-------------------+-----------------------+\n",
      "|      individual_tag|avg_user_rating|n_user_ratings|n_recipes|in_percent_recipies|in_percent_interactions|\n",
      "+--------------------+---------------+--------------+---------+-------------------+-----------------------+\n",
      "|     cranberry-sauce|            5.0|             1|        1| 4.3376044278266E-6|    8.86639582782878E-7|\n",
      "|roast-beef-comfor...|            5.0|             1|        1| 4.3376044278266E-6|    8.86639582782878E-7|\n",
      "|           pork-loin|            5.0|             1|        1| 4.3376044278266E-6|    8.86639582782878E-7|\n",
      "|roast-beef-main-dish|            5.0|             1|        1| 4.3376044278266E-6|    8.86639582782878E-7|\n",
      "|             cabbage|            5.0|             1|        1| 4.3376044278266E-6|    8.86639582782878E-7|\n",
      "+--------------------+---------------+--------------+---------+-------------------+-----------------------+\n",
      "only showing top 5 rows\n",
      "\n"
     ]
    }
   ],
   "source": [
    "tags_ratings_summary.sort(F.col('avg_user_rating').desc()).show(5)"
   ]
  },
  {
   "cell_type": "code",
   "execution_count": 118,
   "id": "b2b70e1d-8618-4cef-9573-c261fa7f7801",
   "metadata": {},
   "outputs": [
    {
     "data": {
      "text/plain": [
       "{0.0: 1,\n",
       " 0.01: 1.0,\n",
       " 0.05: 1.0,\n",
       " 0.1: 12.0,\n",
       " 0.15: 99.0,\n",
       " 0.2: 187.0,\n",
       " 0.25: 405.0,\n",
       " 0.5: 3859.0,\n",
       " 0.75: 21501.0,\n",
       " 0.99: 385383.0,\n",
       " 1.0: 632226}"
      ]
     },
     "execution_count": 118,
     "metadata": {},
     "output_type": "execute_result"
    }
   ],
   "source": [
    "get_quantiles(tags_ratings_summary, 'n_user_ratings',quantiles_list = [0.01, 0.05, 0.1, 0.15, 0.2, 0.25, 0.5, 0.75, 0.99])"
   ]
  },
  {
   "cell_type": "code",
   "execution_count": 119,
   "id": "c733f7b5-95c3-4098-aebd-2d14ca738cb5",
   "metadata": {},
   "outputs": [],
   "source": [
    "tags_ratings_summary = tags_ratings_summary.filter(tags_ratings_summary.n_user_ratings > 100)"
   ]
  },
  {
   "cell_type": "code",
   "execution_count": 120,
   "id": "d1a02d93-56c2-4ffc-b5b6-4ac4f05b7e75",
   "metadata": {},
   "outputs": [],
   "source": [
    "top_rated_tags_df = tags_ratings_summary.sort(F.col('avg_user_rating').desc())"
   ]
  },
  {
   "cell_type": "code",
   "execution_count": 121,
   "id": "fd20c722-bd87-411e-be1f-d381d940d052",
   "metadata": {},
   "outputs": [
    {
     "data": {
      "text/plain": [
       "{0.0: 3.6742424242424243,\n",
       " 0.01: 3.9685714285714284,\n",
       " 0.25: 4.345410125792702,\n",
       " 0.5: 4.402761169692358,\n",
       " 0.75: 4.450265839610102,\n",
       " 0.8: 4.460339943342777,\n",
       " 0.85: 4.483529739259534,\n",
       " 0.9: 4.504750593824228,\n",
       " 0.95: 4.536693785121194,\n",
       " 0.99: 4.609756097560975,\n",
       " 1.0: 4.822727272727272}"
      ]
     },
     "execution_count": 121,
     "metadata": {},
     "output_type": "execute_result"
    }
   ],
   "source": [
    "get_quantiles(df = top_rated_tags_df , \n",
    "              col_name = 'avg_user_rating', \n",
    "              quantiles_list = [0.01,0.25,0.5, 0.75,0.8,0.85,0.9,0.95, 0.99])"
   ]
  },
  {
   "cell_type": "code",
   "execution_count": 122,
   "id": "d79d4c2f-f003-4599-adc3-342c56a8ceef",
   "metadata": {},
   "outputs": [
    {
     "data": {
      "text/plain": [
       "26"
      ]
     },
     "execution_count": 122,
     "metadata": {},
     "output_type": "execute_result"
    }
   ],
   "source": [
    "# keep tags above 95 percentile\n",
    "top_rated_tags_df = top_rated_tags_df.filter(\"avg_user_rating > 4.53\")\n",
    "top_rated_tags_df.count()"
   ]
  },
  {
   "cell_type": "code",
   "execution_count": 123,
   "id": "4b384cc3-7cb1-449a-bc2a-32cd26751384",
   "metadata": {},
   "outputs": [],
   "source": [
    "top_rated_tags_list = [data[0] for data in top_rated_tags_df.select('individual_tag').collect()]"
   ]
  },
  {
   "cell_type": "code",
   "execution_count": 124,
   "id": "16a33cfe-e325-40b8-9bb8-b2c2dc88365c",
   "metadata": {},
   "outputs": [
    {
     "data": {
      "text/plain": [
       "set()"
      ]
     },
     "execution_count": 124,
     "metadata": {},
     "output_type": "execute_result"
    }
   ],
   "source": [
    "set(top_frequent_tags_list) & set(top_rated_tags_list)"
   ]
  },
  {
   "cell_type": "code",
   "execution_count": 125,
   "id": "2eb50d74-62c1-4734-9e65-6ee29374bbe0",
   "metadata": {},
   "outputs": [],
   "source": [
    "all_added_columns_set = set(top_frequent_tags_list).union(set(top_rated_tags_list))"
   ]
  },
  {
   "cell_type": "code",
   "execution_count": 126,
   "id": "e779442f-3b97-4467-9990-eda227ff75de",
   "metadata": {},
   "outputs": [
    {
     "name": "stdout",
     "output_type": "stream",
     "text": [
      "added column: has_tag_ragu-recipe-contest\n",
      "added column: has_tag_simply-potatoes2\n",
      "added column: has_tag_non-alcoholic\n",
      "added column: has_tag_a1-sauce\n",
      "added column: has_tag_labor-day\n",
      "added column: has_tag_punch\n",
      "added column: has_tag_lettuces\n",
      "added column: has_tag_cocktails\n",
      "added column: has_tag_mashed-potatoes\n",
      "added column: has_tag_smoothies\n",
      "added column: has_tag_avocado\n",
      "added column: has_tag_turkey-burgers\n",
      "added column: has_tag_beverages\n",
      "added column: has_tag_asparagus\n",
      "added column: has_tag_mango\n",
      "added column: has_tag_shakes\n",
      "added column: has_tag_memorial-day\n",
      "added column: has_tag_omelets-and-frittatas\n",
      "added column: has_tag_salsas\n",
      "added column: has_tag_strawberries\n",
      "added column: has_tag_greek\n",
      "added column: has_tag_salads\n",
      "added column: has_tag_barbecue\n",
      "added column: has_tag_australian\n",
      "added column: has_tag_grilling\n",
      "added column: has_tag_polynesian\n"
     ]
    }
   ],
   "source": [
    "Interaction_level_df = add_OHE_columns (Interaction_level_df, top_rated_tags_list)"
   ]
  },
  {
   "cell_type": "markdown",
   "id": "6b50621d-fad8-4ba2-9c02-dcaa92321bbb",
   "metadata": {},
   "source": [
    "### 4. Bottom n rated tags"
   ]
  },
  {
   "cell_type": "code",
   "execution_count": 127,
   "id": "c9ca4f44-e505-4068-a377-fdc3d82ea780",
   "metadata": {},
   "outputs": [],
   "source": [
    "bottom_rated_tags_df = tags_ratings_summary.sort(F.col(\"avg_user_rating\").asc())"
   ]
  },
  {
   "cell_type": "code",
   "execution_count": 128,
   "id": "9f0f6878-188f-4452-948a-dbc68c3204cd",
   "metadata": {},
   "outputs": [
    {
     "data": {
      "text/plain": [
       "{0.0: 3.6742424242424243,\n",
       " 0.01: 3.9685714285714284,\n",
       " 0.02: 4.050793650793651,\n",
       " 0.03: 4.096069868995633,\n",
       " 0.04: 4.116788321167883,\n",
       " 0.05: 4.171974522292993,\n",
       " 0.1: 4.238095238095238,\n",
       " 0.15: 4.303225806451613,\n",
       " 0.2: 4.326197355748183,\n",
       " 0.25: 4.345410125792702,\n",
       " 0.5: 4.402761169692358,\n",
       " 0.75: 4.450265839610102,\n",
       " 0.99: 4.609756097560975,\n",
       " 1.0: 4.822727272727272}"
      ]
     },
     "execution_count": 128,
     "metadata": {},
     "output_type": "execute_result"
    }
   ],
   "source": [
    "get_quantiles (bottom_rated_tags_df, \"avg_user_rating\", quantiles_list = [0.01, 0.02, 0.03, 0.04, 0.05, 0.1, 0.15, 0.2, 0.25, 0.5, 0.75, 0.99])"
   ]
  },
  {
   "cell_type": "code",
   "execution_count": 129,
   "id": "046c09ee-03d6-4073-a124-ef924cc23f41",
   "metadata": {},
   "outputs": [
    {
     "data": {
      "text/plain": [
       "6"
      ]
     },
     "execution_count": 129,
     "metadata": {},
     "output_type": "execute_result"
    }
   ],
   "source": [
    "bottom_rated_tags_df = bottom_rated_tags_df.filter(\"avg_user_rating < 4.00\")\n",
    "bottom_rated_tags_df.count()"
   ]
  },
  {
   "cell_type": "code",
   "execution_count": 130,
   "id": "b690a750-3013-49e5-8732-0e8638ecc0f2",
   "metadata": {},
   "outputs": [],
   "source": [
    "bottom_rated_tags_list = [data[0] for data in bottom_rated_tags_df.select('individual_tag').collect()]"
   ]
  },
  {
   "cell_type": "code",
   "execution_count": 131,
   "id": "51546b11-5ef0-4240-a649-c45898268d55",
   "metadata": {},
   "outputs": [
    {
     "data": {
      "text/plain": [
       "set()"
      ]
     },
     "execution_count": 131,
     "metadata": {},
     "output_type": "execute_result"
    }
   ],
   "source": [
    "all_added_columns_set & set(bottom_rated_tags_list)"
   ]
  },
  {
   "cell_type": "code",
   "execution_count": 132,
   "id": "0e968898-9414-4515-bcd5-e6da5bbea716",
   "metadata": {},
   "outputs": [
    {
     "name": "stdout",
     "output_type": "stream",
     "text": [
      "added column: has_tag_pressure-canning\n",
      "added column: has_tag_honduran\n",
      "added column: has_tag_unprocessed-freezer\n",
      "added column: has_tag_birthday\n",
      "added column: has_tag_jellies\n",
      "added column: has_tag_water-bath\n"
     ]
    }
   ],
   "source": [
    "Interaction_level_df =  add_OHE_columns(Interaction_level_df, bottom_rated_tags_list)"
   ]
  },
  {
   "cell_type": "code",
   "execution_count": null,
   "id": "85eac1c4-e9b6-458e-a577-c4eee2ea5558",
   "metadata": {},
   "outputs": [],
   "source": []
  },
  {
   "cell_type": "code",
   "execution_count": null,
   "id": "abe9af31-b264-4fe0-8364-0fdcd7d76a95",
   "metadata": {},
   "outputs": [],
   "source": []
  },
  {
   "cell_type": "markdown",
   "id": "ef152070-098f-4ced-9cdb-ed2b3a244cdb",
   "metadata": {},
   "source": [
    "# Final DataFrame"
   ]
  },
  {
   "cell_type": "code",
   "execution_count": 133,
   "id": "fcfc3e4f-1045-457e-9a82-4b41d49578f2",
   "metadata": {},
   "outputs": [
    {
     "data": {
      "text/plain": [
       "140"
      ]
     },
     "execution_count": 133,
     "metadata": {},
     "output_type": "execute_result"
    }
   ],
   "source": [
    "len(Interaction_level_df.columns)"
   ]
  },
  {
   "cell_type": "code",
   "execution_count": null,
   "id": "761a23fe-0023-42e8-b68c-4b42eaa2f0bd",
   "metadata": {},
   "outputs": [],
   "source": []
  },
  {
   "cell_type": "code",
   "execution_count": null,
   "id": "681643f0-079e-4df0-8873-5ca5b4d81b74",
   "metadata": {},
   "outputs": [],
   "source": []
  }
 ],
 "metadata": {
  "kernelspec": {
   "display_name": "Python 3 (ipykernel)",
   "language": "python",
   "name": "python3"
  },
  "language_info": {
   "codemirror_mode": {
    "name": "ipython",
    "version": 3
   },
   "file_extension": ".py",
   "mimetype": "text/x-python",
   "name": "python",
   "nbconvert_exporter": "python",
   "pygments_lexer": "ipython3",
   "version": "3.11.5"
  }
 },
 "nbformat": 4,
 "nbformat_minor": 5
}
